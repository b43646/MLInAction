{
 "cells": [
  {
   "cell_type": "code",
   "execution_count": 1,
   "id": "5f5168f4-7cd0-4eba-8189-ae13142eb365",
   "metadata": {},
   "outputs": [],
   "source": [
    "import torch"
   ]
  },
  {
   "cell_type": "code",
   "execution_count": 2,
   "id": "f813d4c6-ed1c-49d6-b433-51fff0d4a45b",
   "metadata": {},
   "outputs": [
    {
     "name": "stdout",
     "output_type": "stream",
     "text": [
      "Shape of tensor: torch.Size([3, 4])\n",
      "Datatype of tensor: torch.float32\n",
      "Device tensor is stored on: cpu\n"
     ]
    }
   ],
   "source": [
    "tensor = torch.rand(3,4)\n",
    "print(f\"Shape of tensor: {tensor.shape}\")\n",
    "print(f\"Datatype of tensor: {tensor.dtype}\")\n",
    "print(f\"Device tensor is stored on: {tensor.device}\")"
   ]
  },
  {
   "cell_type": "code",
   "execution_count": 3,
   "id": "71357a41-9514-4d00-afde-c0a5107e7c6d",
   "metadata": {},
   "outputs": [
    {
     "name": "stdout",
     "output_type": "stream",
     "text": [
      "tensor([[1, 2],\n",
      "        [3, 4]])\n"
     ]
    }
   ],
   "source": [
    "# 传入一个python的列表\n",
    "data = [[1,2],[3,4]]\n",
    "x_data = torch.tensor(data)\n",
    "print(x_data)"
   ]
  },
  {
   "cell_type": "code",
   "execution_count": 4,
   "id": "85ecf348-a726-4419-8fa1-a5fa6d27ffb4",
   "metadata": {},
   "outputs": [
    {
     "name": "stdout",
     "output_type": "stream",
     "text": [
      "tensor([[1, 2],\n",
      "        [3, 4]])\n"
     ]
    }
   ],
   "source": [
    "# 传入numpy的array\n",
    "import numpy as np\n",
    "\n",
    "np_array = np.array([[1,2],[3,4]])\n",
    "\n",
    "x_np = torch.tensor(np_array)\n",
    "print(x_np)"
   ]
  },
  {
   "cell_type": "code",
   "execution_count": 5,
   "id": "95e0d1d5-6696-4859-8d9c-9aa5ec13ce3e",
   "metadata": {},
   "outputs": [
    {
     "name": "stdout",
     "output_type": "stream",
     "text": [
      "Ones Tensor:\n",
      " tensor([[1, 1],\n",
      "        [1, 1]]) \n",
      "\n",
      "Random Tensor: \n",
      " tensor([[0.6439, 0.7284],\n",
      "        [0.2964, 0.5215]]) \n",
      "\n"
     ]
    }
   ],
   "source": [
    "# 保持x_data数据属性和形状\n",
    "\n",
    "x_ones = torch.ones_like(x_data)\n",
    "print(f\"Ones Tensor:\\n {x_ones} \\n\")\n",
    "\n",
    "# 保持x_data的形状，重新定义x_data的数据属性\n",
    "\n",
    "x_rand = torch.rand_like(x_data, dtype=torch.float)\n",
    "print(f\"Random Tensor: \\n {x_rand} \\n\")"
   ]
  },
  {
   "cell_type": "code",
   "execution_count": 6,
   "id": "0ac22422-952c-44c4-8d65-5df8267865a1",
   "metadata": {},
   "outputs": [
    {
     "name": "stdout",
     "output_type": "stream",
     "text": [
      "Random Tensor: \n",
      " tensor([[0.7314, 0.9252, 0.3127],\n",
      "        [0.4006, 0.4120, 0.0107]]) \n",
      "\n",
      "Random Tensor: \n",
      " tensor([[1., 1., 1.],\n",
      "        [1., 1., 1.]]) \n",
      "\n"
     ]
    }
   ],
   "source": [
    "# 生成指定行列的数据tensor\n",
    "\n",
    "shape=(2,3)\n",
    "rand_tensor = torch.rand(shape)\n",
    "print(f\"Random Tensor: \\n {rand_tensor} \\n\")\n",
    "\n",
    "one_tensor = torch.ones(shape)\n",
    "print(f\"Random Tensor: \\n {one_tensor} \\n\")"
   ]
  },
  {
   "cell_type": "code",
   "execution_count": 7,
   "id": "3683c5fe-6c15-4ca0-a743-b4d1fae93dbd",
   "metadata": {},
   "outputs": [
    {
     "name": "stdout",
     "output_type": "stream",
     "text": [
      "GPU: tensor([[0.7314, 0.9252, 0.3127],\n",
      "        [0.4006, 0.4120, 0.0107]], device='cuda:0')\n",
      "CPU: tensor([[0.7314, 0.9252, 0.3127],\n",
      "        [0.4006, 0.4120, 0.0107]])\n"
     ]
    }
   ],
   "source": [
    "if torch.cuda.is_available():\n",
    "    gpu_tensor = rand_tensor.cuda()\n",
    "    print(f\"GPU: {gpu_tensor}\")\n",
    "\n",
    "cpu_tensor = rand_tensor.cpu()\n",
    "print(f\"CPU: {cpu_tensor}\")"
   ]
  },
  {
   "cell_type": "code",
   "execution_count": 8,
   "id": "fc8faba6-27b8-4d8a-b695-ead380d366e8",
   "metadata": {},
   "outputs": [
    {
     "name": "stdout",
     "output_type": "stream",
     "text": [
      "2.5.1\n"
     ]
    }
   ],
   "source": [
    "print(torch.__version__)"
   ]
  },
  {
   "cell_type": "code",
   "execution_count": 9,
   "id": "ebccf610-3725-4c7f-bf33-b2b63d9433a7",
   "metadata": {},
   "outputs": [],
   "source": [
    "# Tensor运算"
   ]
  },
  {
   "cell_type": "code",
   "execution_count": 10,
   "id": "75cbf506-0010-4a0e-a23a-435fc05d5d34",
   "metadata": {},
   "outputs": [
    {
     "name": "stdout",
     "output_type": "stream",
     "text": [
      "tensor([[-1.3801,  0.6272, -1.9758, -1.8754],\n",
      "        [-0.8079,  0.0892,  0.4582, -0.2175],\n",
      "        [-0.2089, -0.2523,  0.3441,  0.2502],\n",
      "        [-0.6154, -0.1220,  1.2747, -0.4221]])\n",
      "第一行: tensor([-1.3801,  0.6272, -1.9758, -1.8754])\n",
      "第一列: tensor([-1.3801, -0.8079, -0.2089, -0.6154])\n",
      "最后一列: tensor([-1.8754, -0.2175,  0.2502, -0.4221])\n",
      "tensor([[-1.3801,  0.0000, -1.9758, -1.8754],\n",
      "        [-0.8079,  0.0000,  0.4582, -0.2175],\n",
      "        [-0.2089,  0.0000,  0.3441,  0.2502],\n",
      "        [-0.6154,  0.0000,  1.2747, -0.4221]])\n"
     ]
    }
   ],
   "source": [
    "# 索引\n",
    "\n",
    "tensor = torch.randn(4,4)\n",
    "print(tensor)\n",
    "print(f\"第一行: {tensor[0]}\")\n",
    "print(f\"第一列: {tensor[:,0]}\")\n",
    "print(f\"最后一列: {tensor[:,-1]}\")\n",
    "\n",
    "tensor[:,1]=0\n",
    "print(tensor)"
   ]
  },
  {
   "cell_type": "code",
   "execution_count": 11,
   "id": "fd30be6e-86af-4eb0-ad27-f80f10fcd7cd",
   "metadata": {},
   "outputs": [
    {
     "name": "stdout",
     "output_type": "stream",
     "text": [
      "tensor([[ 7, 10],\n",
      "        [15, 22]])\n",
      "tensor([[ 1,  4],\n",
      "        [ 9, 16]])\n",
      "tensor([[2, 4],\n",
      "        [6, 8]])\n",
      "tensor(10)\n",
      "10\n",
      "tensor([[1, 2, 3, 4],\n",
      "        [5, 6, 7, 8]])\n",
      "tensor([[1, 2, 3, 4, 5, 6, 7, 8]])\n"
     ]
    }
   ],
   "source": [
    "# 算术运算\n",
    "\n",
    "tensor = torch.tensor([[1,2],\n",
    "                       [3,4]])\n",
    "# 矩阵乘法\n",
    "result = tensor @ tensor\n",
    "print(result)\n",
    "\n",
    "# 元素乘法\n",
    "result_2 = tensor * tensor\n",
    "print(result_2)\n",
    "\n",
    "# 元素乘法\n",
    "result_3 = tensor + tensor\n",
    "print(result_3)\n",
    "\n",
    "# 矩阵求和\n",
    "agg = tensor.sum()\n",
    "print(agg)\n",
    "agg_item = agg.item()\n",
    "print(agg_item)\n",
    "\n",
    "# 拼接\n",
    "\n",
    "tensor_1 = torch.tensor([[1,2,3,4]])\n",
    "tensor_2 = torch.tensor([[5,6,7,8]])\n",
    "\n",
    "## 行方向拼接，行数增加\n",
    "print(torch.cat([tensor_1,tensor_2], dim=0))\n",
    "## 列方向拼接，列数增加\n",
    "print(torch.cat([tensor_1,tensor_2], dim=1))"
   ]
  },
  {
   "cell_type": "code",
   "execution_count": 12,
   "id": "b5dbdee6-e4eb-4e09-a916-2f6c9827cd81",
   "metadata": {},
   "outputs": [
    {
     "name": "stdout",
     "output_type": "stream",
     "text": [
      "Requirement already satisfied: Pillow in c:\\users\\40851\\anaconda3\\envs\\ml\\lib\\site-packages (11.0.0)\n",
      "Requirement already satisfied: numpy in c:\\users\\40851\\anaconda3\\envs\\ml\\lib\\site-packages (2.0.1)\n"
     ]
    }
   ],
   "source": [
    "!pip install Pillow numpy"
   ]
  },
  {
   "cell_type": "code",
   "execution_count": 13,
   "id": "6426b672-fe67-49be-88d3-d13d66a4047e",
   "metadata": {},
   "outputs": [
    {
     "name": "stdout",
     "output_type": "stream",
     "text": [
      "[1. 1. 1. 1. 1.]\n",
      "tensor([1., 1., 1., 1., 1.], dtype=torch.float64)\n",
      "tensor([1., 1., 1., 1., 1.])\n",
      "[1. 1. 1. 1. 1.]\n",
      "<class 'torch.Tensor'>\n"
     ]
    }
   ],
   "source": [
    "# Tensor数据转换\n",
    "\n",
    "## NUMPY转TENSOR\n",
    "import numpy as np\n",
    "\n",
    "n = np.ones(5)\n",
    "t = torch.from_numpy(n)\n",
    "print(n)\n",
    "print(t)\n",
    "\n",
    "## TENSOR转NUMPY\n",
    "t = torch.ones(5)\n",
    "n = t.numpy()\n",
    "print(t)\n",
    "print(n)\n",
    "\n",
    "## 图片转TENSOR\n",
    "from PIL import Image\n",
    "import torchvision\n",
    "\n",
    "image_path = r'cat.jpg'\n",
    "image = Image.open(image_path)\n",
    "\n",
    "transform = torchvision.transforms.ToTensor()\n",
    "tensor_image = transform(image)\n",
    "\n",
    "print(type(tensor_image))"
   ]
  },
  {
   "cell_type": "code",
   "execution_count": 14,
   "id": "adb6c5f7-6665-4ed3-ab16-a0ce355bf359",
   "metadata": {},
   "outputs": [],
   "source": [
    "## TENSOR转图片\n",
    "\n",
    "import torch\n",
    "from torchvision import transforms\n",
    "\n",
    "tensor_image = torch.randn((3,244,244))\n",
    "transformed_image = transforms.ToPILImage()(tensor_image)\n",
    "save_path = r'form_tensor.jpg'\n",
    "transformed_image.save(save_path)"
   ]
  },
  {
   "cell_type": "code",
   "execution_count": 22,
   "id": "9a38c07c-054c-404a-828b-db544dcbfda8",
   "metadata": {},
   "outputs": [
    {
     "name": "stdout",
     "output_type": "stream",
     "text": [
      "torch.Size([3, 560, 1440])\n",
      "cpu\n",
      "cuda:0\n",
      "tensor([[[1.1000, 1.1000, 1.1000,  ..., 1.1000, 1.1000, 1.1000],\n",
      "         [1.1000, 1.1000, 1.1000,  ..., 1.1000, 1.1000, 1.1000],\n",
      "         [1.1000, 1.1000, 1.1000,  ..., 1.1000, 1.1000, 1.1000],\n",
      "         ...,\n",
      "         [1.1000, 1.1000, 1.1000,  ..., 1.1000, 1.1000, 1.1000],\n",
      "         [1.1000, 1.1000, 1.1000,  ..., 1.1000, 1.1000, 1.1000],\n",
      "         [1.1000, 1.1000, 1.1000,  ..., 1.1000, 1.1000, 1.1000]],\n",
      "\n",
      "        [[1.1000, 1.1000, 1.1000,  ..., 1.1000, 1.1000, 1.1000],\n",
      "         [1.1000, 1.1000, 1.1000,  ..., 1.1000, 1.1000, 1.1000],\n",
      "         [1.1000, 1.1000, 1.1000,  ..., 1.1000, 1.1000, 1.1000],\n",
      "         ...,\n",
      "         [1.1000, 1.1000, 1.1000,  ..., 1.1000, 1.1000, 1.1000],\n",
      "         [1.1000, 1.1000, 1.1000,  ..., 1.1000, 1.1000, 1.1000],\n",
      "         [1.1000, 1.1000, 1.1000,  ..., 1.1000, 1.1000, 1.1000]],\n",
      "\n",
      "        [[1.1000, 1.1000, 1.1000,  ..., 1.1000, 1.1000, 1.1000],\n",
      "         [1.1000, 1.1000, 1.1000,  ..., 1.1000, 1.1000, 1.1000],\n",
      "         [1.1000, 1.1000, 1.1000,  ..., 1.1000, 1.1000, 1.1000],\n",
      "         ...,\n",
      "         [1.1000, 1.1000, 1.1000,  ..., 1.1000, 1.1000, 1.1000],\n",
      "         [1.1000, 1.1000, 1.1000,  ..., 1.1000, 1.1000, 1.1000],\n",
      "         [1.1000, 1.1000, 1.1000,  ..., 1.1000, 1.1000, 1.1000]]],\n",
      "       device='cuda:0')\n",
      "cpu\n"
     ]
    }
   ],
   "source": [
    "## 综合案例-PyTorch处理图片\n",
    "import torch\n",
    "from torchvision import transforms\n",
    "from PIL import Image\n",
    "\n",
    "image_path = \"cat.jpg\"\n",
    "save_path = \"result.jpg\"\n",
    "\n",
    "### 加载图片\n",
    "image = Image.open(image_path)\n",
    "\n",
    "### 图片转换成TENSOR\n",
    "transform = transforms.ToTensor()\n",
    "tensor_image = transform(image)\n",
    "\n",
    "print(tensor_image.shape)\n",
    "print(tensor_image.device)\n",
    "\n",
    "### 转入到显卡中\n",
    "if torch.cuda.is_available():\n",
    "    tensor_image = tensor_image.to(\"cuda\")\n",
    "\n",
    "print(tensor_image.device)\n",
    "\n",
    "#### 修改每个像素值\n",
    "tensor_image += 0.1\n",
    "\n",
    "print(tensor_image)\n",
    "### 转回到CPU中\n",
    "tensor_image = tensor_image.cpu()\n",
    "print(tensor_image.device)\n",
    "\n",
    "### 保存\n",
    "transformed_image = transforms.ToPILImage()(tensor_image)\n",
    "transformed_image.save(save_path)\n"
   ]
  },
  {
   "cell_type": "code",
   "execution_count": null,
   "id": "0c02444c-075d-4237-8ec8-830697a81d03",
   "metadata": {},
   "outputs": [],
   "source": []
  }
 ],
 "metadata": {
  "kernelspec": {
   "display_name": "Python 3 (ipykernel)",
   "language": "python",
   "name": "python3"
  },
  "language_info": {
   "codemirror_mode": {
    "name": "ipython",
    "version": 3
   },
   "file_extension": ".py",
   "mimetype": "text/x-python",
   "name": "python",
   "nbconvert_exporter": "python",
   "pygments_lexer": "ipython3",
   "version": "3.12.7"
  }
 },
 "nbformat": 4,
 "nbformat_minor": 5
}
