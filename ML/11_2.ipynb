{
 "cells": [
  {
   "cell_type": "code",
   "execution_count": 2,
   "id": "041d4ec2-38b3-4e2d-ae04-7c2bd2d91ab3",
   "metadata": {},
   "outputs": [
    {
     "name": "stdout",
     "output_type": "stream",
     "text": [
      "All images have been saved successfully.\n"
     ]
    }
   ],
   "source": [
    "import os\n",
    "import torchvision\n",
    "import torchvision.transforms as transforms\n",
    "\n",
    "# 下载MNIST数据集\n",
    "transform = transforms.Compose([transforms.ToTensor()])\n",
    "mnist_trainset = torchvision.datasets.MNIST(root='./data_1224', train=True, download=True, transform=transform)\n",
    "mnist_testset = torchvision.datasets.MNIST(root='./data_1224', train=False, download=True, transform=transform)\n",
    "\n",
    "# 创建一个目录来保存图片\n",
    "os.makedirs('./mnist_images/train', exist_ok=True)\n",
    "os.makedirs('./mnist_images/test', exist_ok=True)\n",
    "\n",
    "# 遍历数据集并保存图片\n",
    "for idx, (image, label) in enumerate(mnist_trainset):\n",
    "    # 创建类别目录\n",
    "    label_dir = os.path.join('./mnist_images/train', str(label))\n",
    "    os.makedirs(label_dir, exist_ok=True)\n",
    "    # 转换为PIL图像并保存\n",
    "    pil_image = transforms.ToPILImage()(image)\n",
    "    pil_image.save(os.path.join(label_dir,f'{idx}.jpg'))\n",
    "\n",
    "for idx, (image, label) in enumerate(mnist_testset):\n",
    "    # 创建类别目录\n",
    "    label_dir = os.path.join('./mnist_images/test', str(label))\n",
    "    os.makedirs(label_dir, exist_ok=True)\n",
    "    # 转换为PIL图像并保存\n",
    "    pil_image = transforms.ToPILImage()(image)\n",
    "    pil_image.save(os.path.join(label_dir,f'{idx}.jpg'))\n",
    "\n",
    "print(\"All images have been saved successfully.\")"
   ]
  },
  {
   "cell_type": "code",
   "execution_count": 16,
   "id": "6b463b4c-f5d3-427e-a07a-0e018f1ec558",
   "metadata": {},
   "outputs": [
    {
     "name": "stdout",
     "output_type": "stream",
     "text": [
      "Read all train dataset\n",
      "torch.FloatTensor torch.Size([10, 28, 28]) tensor([0, 0, 4, 1, 8, 2, 1, 7, 8, 2])\n"
     ]
    }
   ],
   "source": [
    "import os\n",
    "import torch\n",
    "from torch.utils.data import Dataset, DataLoader\n",
    "import cv2 as cv\n",
    "\n",
    "\n",
    "class MNISTDataset(Dataset):\n",
    "    def __init__(self, root_dir):\n",
    "        self.root_dir = root_dir\n",
    "        self.file_list = []\n",
    "        self.name_list = []\n",
    "        self.id_list = []\n",
    "        for root, dirs, files in os.walk(self.root_dir):\n",
    "            if dirs:\n",
    "                self.name_list = dirs\n",
    "            for file_i in files:\n",
    "                file_i_full_path = os.path.join(root, file_i)\n",
    "                # 欧式。path.split默认会将完整路径分割成(header,tail)两部分\n",
    "                file_class = os.path.split(file_i_full_path)[0].split('\\\\')[-1]\n",
    "                self.id_list.append(self.name_list.index(file_class))\n",
    "                self.file_list.append(file_i_full_path)\n",
    "                \n",
    "    def __len__(self):\n",
    "        return len(self.file_list)\n",
    "        \n",
    "    def __getitem__(self, idx):\n",
    "        img = self.file_list[idx]\n",
    "        # 0: 以灰度图模式读取图片\n",
    "        img = cv.imread(img, 0)\n",
    "        img = cv.resize(img, dsize=(28, 28))\n",
    "        # float()便于后续浮点计算\n",
    "        img = torch.from_numpy(img).float()\n",
    "        label = self.id_list[idx]\n",
    "        label = torch.tensor(label)\n",
    "        return img, label\n",
    "\n",
    "my_dataset_train = MNISTDataset(r'./mnist_images/train')\n",
    "my_dataloader_train = DataLoader(my_dataset_train, batch_size=10, shuffle=True)\n",
    "print(\"Read all train dataset\")\n",
    "for x, y in my_dataloader_train:\n",
    "    print(x.type(), x.shape, y)\n",
    "    break"
   ]
  },
  {
   "cell_type": "code",
   "execution_count": null,
   "id": "9fcbd181-be5c-4c6d-9436-dc149884defe",
   "metadata": {},
   "outputs": [],
   "source": []
  }
 ],
 "metadata": {
  "kernelspec": {
   "display_name": "Python 3 (ipykernel)",
   "language": "python",
   "name": "python3"
  },
  "language_info": {
   "codemirror_mode": {
    "name": "ipython",
    "version": 3
   },
   "file_extension": ".py",
   "mimetype": "text/x-python",
   "name": "python",
   "nbconvert_exporter": "python",
   "pygments_lexer": "ipython3",
   "version": "3.12.7"
  }
 },
 "nbformat": 4,
 "nbformat_minor": 5
}
