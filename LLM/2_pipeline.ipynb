{
 "cells": [
  {
   "cell_type": "code",
   "execution_count": 1,
   "id": "33edd9ec-f348-43ef-89cb-9290229c0556",
   "metadata": {},
   "outputs": [],
   "source": [
    "# pipeline ()可以轻松使用Hub中的任何模型来推理任何语言、计算机视觉、语音和多模式任务。即使您没有特定模式的经验或不熟悉模型背后的底层代码，您仍然可以使用它们通过 pipeline ()进行推理！本教程将教您：\n",
    "\n",
    "# 使用pipeline()进行推理。\n",
    "# 使用特定的分词器或模型。\n",
    "# 将pipeline()用于音频、视觉和多模式任务。"
   ]
  },
  {
   "cell_type": "code",
   "execution_count": 2,
   "id": "441d4ad3-58a4-470a-b413-b33ba4af08b3",
   "metadata": {},
   "outputs": [
    {
     "name": "stderr",
     "output_type": "stream",
     "text": [
      "No model was supplied, defaulted to facebook/wav2vec2-base-960h and revision 55bb623 (https://huggingface.co/facebook/wav2vec2-base-960h).\n",
      "Using a pipeline without specifying a model name and revision in production is not recommended.\n",
      "Some weights of the model checkpoint at facebook/wav2vec2-base-960h were not used when initializing Wav2Vec2ForCTC: ['wav2vec2.encoder.pos_conv_embed.conv.weight_g', 'wav2vec2.encoder.pos_conv_embed.conv.weight_v']\n",
      "- This IS expected if you are initializing Wav2Vec2ForCTC from the checkpoint of a model trained on another task or with another architecture (e.g. initializing a BertForSequenceClassification model from a BertForPreTraining model).\n",
      "- This IS NOT expected if you are initializing Wav2Vec2ForCTC from the checkpoint of a model that you expect to be exactly identical (initializing a BertForSequenceClassification model from a BertForSequenceClassification model).\n",
      "Some weights of Wav2Vec2ForCTC were not initialized from the model checkpoint at facebook/wav2vec2-base-960h and are newly initialized: ['wav2vec2.encoder.pos_conv_embed.conv.parametrizations.weight.original0', 'wav2vec2.encoder.pos_conv_embed.conv.parametrizations.weight.original1', 'wav2vec2.masked_spec_embed']\n",
      "You should probably TRAIN this model on a down-stream task to be able to use it for predictions and inference.\n"
     ]
    }
   ],
   "source": [
    "from transformers import pipeline\n",
    "\n",
    "transcriber = pipeline(task=\"automatic-speech-recognition\")"
   ]
  },
  {
   "cell_type": "code",
   "execution_count": 3,
   "id": "2d516d2a-af20-49e0-bc15-8df2585cd2d4",
   "metadata": {},
   "outputs": [
    {
     "data": {
      "text/plain": [
       "{'text': 'I HAVE A DREAM BUT ONE DAY THIS NATION WILL RISE UP LIVE UP THE TRUE MEANING OF ITS TREES'}"
      ]
     },
     "execution_count": 3,
     "metadata": {},
     "output_type": "execute_result"
    }
   ],
   "source": [
    "transcriber(\"https://huggingface.co/datasets/Narsil/asr_dummy/resolve/main/mlk.flac\")"
   ]
  },
  {
   "cell_type": "code",
   "execution_count": 5,
   "id": "cfa9c85d-f7d0-4861-afa9-e1a24931617d",
   "metadata": {},
   "outputs": [
    {
     "data": {
      "text/plain": [
       "[{'text': 'I HAVE A DREAM BUT ONE DAY THIS NATION WILL RISE UP LIVE UP THE TRUE MEANING OF ITS TREES'},\n",
       " {'text': 'HE HOPED THERE WOULD BE STEW FOR DINNER TURNIPS AND CARROTS AND BRUISED POTATOES AND FAT MUTTON PIECES TO BE LADLED OUT IN THICK PEPPERED FLOWER FAT AND SAUCE'}]"
      ]
     },
     "execution_count": 5,
     "metadata": {},
     "output_type": "execute_result"
    }
   ],
   "source": [
    "transcriber(\n",
    "    [\n",
    "        \"https://huggingface.co/datasets/Narsil/asr_dummy/resolve/main/mlk.flac\",\n",
    "        \"https://huggingface.co/datasets/Narsil/asr_dummy/resolve/main/1.flac\",\n",
    "    ]\n",
    ")"
   ]
  },
  {
   "cell_type": "code",
   "execution_count": 7,
   "id": "de331d9e-bd13-450c-a837-07d9138b15db",
   "metadata": {},
   "outputs": [],
   "source": [
    "## 1. 以上的pipeline()的基本使用方式"
   ]
  },
  {
   "cell_type": "code",
   "execution_count": 8,
   "id": "01a7b967-fc5e-4dca-b21f-113b438ea980",
   "metadata": {},
   "outputs": [],
   "source": [
    "## 2. pipeline()参数"
   ]
  },
  {
   "cell_type": "code",
   "execution_count": 4,
   "id": "e35afc91-369f-40b2-b2bb-c05254d34bda",
   "metadata": {},
   "outputs": [],
   "source": [
    "# 指定设备\n",
    "# transcriber = pipeline(model=\"facebook/wav2vec2-base-960h\", device=\"cuda:0\")"
   ]
  },
  {
   "cell_type": "code",
   "execution_count": 16,
   "id": "171ee1b0-b892-4b6e-bc1b-71b52b55e122",
   "metadata": {},
   "outputs": [
    {
     "name": "stderr",
     "output_type": "stream",
     "text": [
      "Some weights of the model checkpoint at facebook/wav2vec2-base-960h were not used when initializing Wav2Vec2ForCTC: ['wav2vec2.encoder.pos_conv_embed.conv.weight_g', 'wav2vec2.encoder.pos_conv_embed.conv.weight_v']\n",
      "- This IS expected if you are initializing Wav2Vec2ForCTC from the checkpoint of a model trained on another task or with another architecture (e.g. initializing a BertForSequenceClassification model from a BertForPreTraining model).\n",
      "- This IS NOT expected if you are initializing Wav2Vec2ForCTC from the checkpoint of a model that you expect to be exactly identical (initializing a BertForSequenceClassification model from a BertForSequenceClassification model).\n",
      "Some weights of Wav2Vec2ForCTC were not initialized from the model checkpoint at facebook/wav2vec2-base-960h and are newly initialized: ['wav2vec2.encoder.pos_conv_embed.conv.parametrizations.weight.original0', 'wav2vec2.encoder.pos_conv_embed.conv.parametrizations.weight.original1', 'wav2vec2.masked_spec_embed']\n",
      "You should probably TRAIN this model on a down-stream task to be able to use it for predictions and inference.\n"
     ]
    }
   ],
   "source": [
    "# 批处理\n",
    "transcriber = pipeline(model=\"facebook/wav2vec2-base-960h\", batch_size=2)\n",
    "audio_filenames = [f\"https://huggingface.co/datasets/Narsil/asr_dummy/resolve/main/{i}.flac\" for i in range(1, 5)]\n",
    "texts = transcriber(audio_filenames)"
   ]
  },
  {
   "cell_type": "code",
   "execution_count": 17,
   "id": "6a561f80-5576-409c-bd1c-9b1ef8b7d140",
   "metadata": {},
   "outputs": [],
   "source": [
    "# 默认情况下，管道不会批量推理，原因是批处理不一定更快，在某些情况下实际上可能会相当慢。"
   ]
  },
  {
   "cell_type": "code",
   "execution_count": 7,
   "id": "d6aebbee-520a-4c65-800a-15c2249618d0",
   "metadata": {},
   "outputs": [],
   "source": [
    "# 任务特定参数\n",
    "# transcriber = pipeline(model=\"openai/whisper-large-v2\", return_timestamps=True)\n",
    "# transcriber(\"https://huggingface.co/datasets/Narsil/asr_dummy/resolve/main/mlk.flac\")"
   ]
  },
  {
   "cell_type": "code",
   "execution_count": 8,
   "id": "2ce47be1-df14-4af7-acd9-ce971a9fd0bd",
   "metadata": {},
   "outputs": [
    {
     "data": {
      "application/vnd.jupyter.widget-view+json": {
       "model_id": "de6c3bf5bbc84a5483e42265d55bec7c",
       "version_major": 2,
       "version_minor": 0
      },
      "text/plain": [
       "config.json:   0%|          | 0.00/1.46k [00:00<?, ?B/s]"
      ]
     },
     "metadata": {},
     "output_type": "display_data"
    },
    {
     "name": "stderr",
     "output_type": "stream",
     "text": [
      "C:\\Users\\40851\\anaconda3\\Lib\\site-packages\\huggingface_hub\\file_download.py:149: UserWarning: `huggingface_hub` cache-system uses symlinks by default to efficiently store duplicated files but your machine does not support them in C:\\Users\\40851\\.cache\\huggingface\\hub\\models--hf-internal-testing--tiny-random-wav2vec2. Caching files will still work but in a degraded version that might require more space on your disk. This warning can be disabled by setting the `HF_HUB_DISABLE_SYMLINKS_WARNING` environment variable. For more details, see https://huggingface.co/docs/huggingface_hub/how-to-cache#limitations.\n",
      "To support symlinks on Windows, you either need to activate Developer Mode or to run Python as an administrator. In order to see activate developer mode, see this article: https://docs.microsoft.com/en-us/windows/apps/get-started/enable-your-device-for-development\n",
      "  warnings.warn(message)\n"
     ]
    },
    {
     "data": {
      "application/vnd.jupyter.widget-view+json": {
       "model_id": "cb9c19b7cb3c44c68c32a702c97893bf",
       "version_major": 2,
       "version_minor": 0
      },
      "text/plain": [
       "pytorch_model.bin:   0%|          | 0.00/829k [00:00<?, ?B/s]"
      ]
     },
     "metadata": {},
     "output_type": "display_data"
    },
    {
     "name": "stderr",
     "output_type": "stream",
     "text": [
      "Some weights of Wav2Vec2ForCTC were not initialized from the model checkpoint at hf-internal-testing/tiny-random-wav2vec2 and are newly initialized: ['wav2vec2.encoder.pos_conv_embed.conv.parametrizations.weight.original0', 'wav2vec2.encoder.pos_conv_embed.conv.parametrizations.weight.original1', 'wav2vec2.feature_extractor.conv_layers.1.layer_norm.bias', 'wav2vec2.feature_extractor.conv_layers.1.layer_norm.weight', 'wav2vec2.feature_extractor.conv_layers.2.layer_norm.bias', 'wav2vec2.feature_extractor.conv_layers.2.layer_norm.weight']\n",
      "You should probably TRAIN this model on a down-stream task to be able to use it for predictions and inference.\n"
     ]
    },
    {
     "data": {
      "application/vnd.jupyter.widget-view+json": {
       "model_id": "e96fa91a8a854e95be3e8cfc94341bd5",
       "version_major": 2,
       "version_minor": 0
      },
      "text/plain": [
       "tokenizer_config.json:   0%|          | 0.00/554 [00:00<?, ?B/s]"
      ]
     },
     "metadata": {},
     "output_type": "display_data"
    },
    {
     "data": {
      "application/vnd.jupyter.widget-view+json": {
       "model_id": "5a2a53d0ca06498487f9472091bb8df7",
       "version_major": 2,
       "version_minor": 0
      },
      "text/plain": [
       "vocab.json:   0%|          | 0.00/291 [00:00<?, ?B/s]"
      ]
     },
     "metadata": {},
     "output_type": "display_data"
    },
    {
     "data": {
      "application/vnd.jupyter.widget-view+json": {
       "model_id": "64911e542b1444eba7d349f532932364",
       "version_major": 2,
       "version_minor": 0
      },
      "text/plain": [
       "special_tokens_map.json:   0%|          | 0.00/85.0 [00:00<?, ?B/s]"
      ]
     },
     "metadata": {},
     "output_type": "display_data"
    },
    {
     "data": {
      "application/vnd.jupyter.widget-view+json": {
       "model_id": "7d4ec0f0fcf24b70945a08b9f933f8fd",
       "version_major": 2,
       "version_minor": 0
      },
      "text/plain": [
       "preprocessor_config.json:   0%|          | 0.00/215 [00:00<?, ?B/s]"
      ]
     },
     "metadata": {},
     "output_type": "display_data"
    },
    {
     "name": "stderr",
     "output_type": "stream",
     "text": [
      "C:\\Users\\40851\\anaconda3\\Lib\\site-packages\\datasets\\load.py:1461: FutureWarning: The repository for hf-internal-testing/librispeech_asr_dummy contains custom code which must be executed to correctly load the dataset. You can inspect the repository content at https://hf.co/datasets/hf-internal-testing/librispeech_asr_dummy\n",
      "You can avoid this message in future by passing the argument `trust_remote_code=True`.\n",
      "Passing `trust_remote_code=True` will be mandatory to load this dataset from the next major release of `datasets`.\n",
      "  warnings.warn(\n"
     ]
    },
    {
     "data": {
      "application/vnd.jupyter.widget-view+json": {
       "model_id": "c3472c4a79ad4eddaae4460e3355e549",
       "version_major": 2,
       "version_minor": 0
      },
      "text/plain": [
       "Downloading builder script:   0%|          | 0.00/5.17k [00:00<?, ?B/s]"
      ]
     },
     "metadata": {},
     "output_type": "display_data"
    },
    {
     "data": {
      "application/vnd.jupyter.widget-view+json": {
       "model_id": "271f1c8f53e54fb688f7ab6e1de52b04",
       "version_major": 2,
       "version_minor": 0
      },
      "text/plain": [
       "Downloading data:   0%|          | 0.00/9.08M [00:00<?, ?B/s]"
      ]
     },
     "metadata": {},
     "output_type": "display_data"
    },
    {
     "data": {
      "application/vnd.jupyter.widget-view+json": {
       "model_id": "86292577506744299a9124b270922bee",
       "version_major": 2,
       "version_minor": 0
      },
      "text/plain": [
       "Generating validation split: 0 examples [00:00, ? examples/s]"
      ]
     },
     "metadata": {},
     "output_type": "display_data"
    },
    {
     "name": "stdout",
     "output_type": "stream",
     "text": [
      "{'text': \"EYB  ZB COE C BEZCYCZ HO MOWWB EM BWOB ZMEG  B COEB BE BEC B U OB BE BCB BEWUBB BXYWBESWYCB SBBB SSEZ C Z WH UB F IGVB SB Z<unk> XOES CZ BBXOXFBB  OBY W B VM OFOWUONFWB ZCX B M WZ Q S C Q BC CQBF FOMB BOT ZWYBZ WB  B CM B C B WZCWWW BHU EOYTO YWB BZ SHZBGEM Q OO T B BM XZ QW C OFBZMSEHB BE ZZBX M Q XB<unk> CEVWZ FOHSB W B O Z ZW S ZB O VM <s> D EUCKH XNC D Q BG B O BW U  U  MBE CBYE  WB HFQUBQBUWZ B MW BMPY F ZBU  EB B WBOF S XFOBB ZB X B MOT W B CEO WBM   BBXBBEOBECB B UM C BP FMBWB BZ WFCED Z B B FXB Z OZ OBBZ NVD UBZC W B WYCWY X CE CW B WB MWU BWN B DECF GEF'C WZS CS BYWB<s>FZ'Z<s>ZGBU ECFEY BF ZOZ O UWBSSZBBBBW   O O DBB BZWFUW ZWOZYCGOYCOT WC O CZ BD BBBBBBX X W T B BC BZC FWYBFO FBCE X Z PEZ CE B WEDBMBO BN B BY Y  W B BMCB XOXQ  BSZES Z M CF S FB BBXBB B C CSZ EF SEQF S BEC BNO BN  SU EH  WRFBS WB  W B OEZ WS X B F B X ZBBE BBEHB B BU BECBSXHB BSQWFW BSZXH BWSEG W VQETZMCZ UCXW Z DBE<s> O SXZX MB W RX YYOBSUBWOCFYEF O B O B C Z UBEZBE BTB C   CBFCB V W B BF W ZBBESBBECUT OH YCGZE W BYZBYGBEW BSBE B  B CBEBEBU BU OQB OSB CB Z Z Z HZGTXZ USZFB FC ZO C\"}\n",
      "{'text': \"BE BESBEBEZ WOE FO Z ZOZ NOS  SUCW W NW 'Z HB Z GCB'Y YNBTB T E Z  B BERB ZBWB SQBESB  S U CBWZ EBBZ Z ZBEDC BZM F F ZFZ H E C B C MBDWB BX  B B W ZWMOU B BZBBXYC ZB YB Z BUV B B MNTNZDZ GBNWF   OOOXF CEOF WBSS <unk>W NVC BCB B U UBEZ O OW B D BWZ <s> BY MEB FNT OZBR  WWFFCW  SC U GBSB Q B HWB Z C M B E BS CW BB B TZ CZ C HDSCE<s>XOWWBBQXFW BCSWQXF BBZXQWZ B BBZ XZWY FB WBSQXFE BBOWZERB WC CW W BFWWWBWWBW 'ZWEBOB SU BF Z CT B E BZT  Z DC W ZMCBF WBYZGCOYZBFSWC BCF<s>MCSZ B ZBUCZA WZ  OSW  DB EDBZWDBZ Q EOGCBSC CS ZC QE CBC OFH  BE X BZ ECEB ZB E QEOB B CZBEZS T C WZSGWFCQ<s>E  BBSB OXOXOW  BSS Z OUWCH E B MZ FZBFBBBWZBSQQW    EDU BSEGBZEUBBUOEDX<s>SU ZZWZ Z Z C CZSTWO B B C WZW WBVTBS ZU UQBESEBSEBSEQ FBSX BOX W BOF O   FX Z B C WZWZ TYBD Z XZB UEBTOCB B  OBBMOBS WFZWMB B HBSZO Z FZQZ GE O B UB ZZUEOBZ B YBUQBEQ ESBE B ZBZQB SBU B SBEBEQB B CB WBEWBX CB ZWEW\"}\n",
      "{'text': \"B OB ZBS Y MF BUZ BZZ UZCOEZ EZ FD E BDB CO QGD GS B TZC ECND ODGZE  BZB UZO T ZHB Z H B B R B  B S O ZZC MQZOEO CBF  ZWDWQSZED TB CXZ BVFW SOC ZEF T FONZBF UBE TWBC COZY CZWB ZTHVNWB  CNHWZH TWX U DTZM F BNZMWB BY EB CBFH EZEWDZSVSZB S <s> CZT EDUWCB EZOU UBFBWOTBW G X B E E BNOCZYR  BY G ZXE B CBEOG ODZB SBMYEMB BDNFQCWM BBBOXOWB BBB B CBE ZSFNDF ESBOCB  B MOZEBSB Z OWTBQMBZ SZSE B FW WBG FWEQNBFE HBHG BC BZRZBXBZ TWBWFOZWB WY UY SFBWZ F BC</s>BTBQ BEZ WZWZ CBSSS WO BBEOZ BYWZY BYEZ WSO BWCBCE G XCXS T W W MWO EB CB XQ B BZV XM UB B CU C Z BOQXFEWSQX SQF SZWEWSZX SOU ZFCS OX<s>BSB WB CE BMCS ZES WSZXE SZBESZXSZ XBTEB WC BCBEQ WFB B SE B F Q B ZXZYBOEYXB W BD C OQWBXF WBZBZCBZESB C B BZSG OC E B CM QBFC ZBS O CS GOC N ZB CUBWZF ZM BO TOOZ OB C GQ ZCZ C OB  BCBBE OB WG H ZCEDT WW B Z OWCEEB W G ZOU B B <s> B X BEBE B H OG   BZ E SCB B B OMCY WBZY M EWE Y ZSBPGOWZU  DUE UED EDFO VQ TBZW B CQQBZB O   SXB Z FBTB BB ECCE CB ECOB SZ B ZBE ZB W W BFB MWOBSZW  WM W BDB  BE BO B W BGW B BUETFHNBU FH FZ FGSC 'BBU  E BXHB ZBS Q CT OQT BF XQRGY GYWD DX CZ BZEFVWZ OB B GB BC B H FO N WB    MXGXGXQWQWQWW OBMWBS OQWBZO OBWZ ZBZEDBZFZ OBWZ QUBB  HSW OBS X EO OEO CUS BOBMB B BFEFBSEBQZ S ZUB XB OSZB W WQ CBM  CESGBY Z  BCZ X ECGWY  ECB B  C C B B B B B BZWWZCMB B CZB BZT E WZYZM Y W OBQ B WB WBE FEBECMZBFSBO BEZBUZB BFWBEZU SB BEHMECUEB GSZ B BCY TQOU CSHZW W C B OC ZBZUBCZ BZ ECB YCOB B TZBB B SZBZW BZWN BQ MF ZUOEFGV WF C C YBQO WZ B<s>HSWV F QB WB E WBOWZSZWBUEOWGF MBZ B B O G W BCW B H WFWBZ CZCSZ Y YSYSSZZSSEBC B SY DUWZBHS  GBF CWCCFCZSBZB B SZMWT BZ WQXF BBQXF BSXSZMZ DZBWZE B B B CN W  C CZ WCZ Z ZBWB Z HYTWEHFEQB Z C FOX Z O BB B W   OW BEDTZEDZ O WZ WCSWOXEDE EW XFOZBB B ECW O YBF  SSFW S QODZ YC C WBU BE ZYQWZYY OCQWUK 'O B BBZT SZX S EB Z H W Z MVMHWFWBX ZWC  BS X    WZ  M FXWZ FZB BZTBZ ZTOC CYEO B VB BVW WB B Y FT YO O BFOFXBECEDB B BQWBEB  T T EZM B EXY WQBF WSCOWC W WB CW BCD  XSNC  SZ EB XB X SQX BZSB Z ZDBF Q WQS BZUDSOZ OB BECY BW B YZBD W CB P WFBSYWW EQXWES ZMOYBDBDWEBO<s>OU XB WCBMCW BE C ZB B ZEBMWB TSZSZ W EHUBBSB OM Z WQWM QW   W  BBBZB XO BOTXBT OOXOWF X WFE WBHB XZWFB WF XBBW CXZ WBFBONZOCBNBZBEB E OW BE DW  SEBSBUBE BU CNOVCBZR ONGD YB  OW CBX WXB YB  BEBEZBEO B WEFBUEBUEBE SBB B BBUEBESUE SM BTZBSBEZ B TBE\"}\n",
      "{'text': \"WZBZ Z ZCBWZ Z W O C ZC Q WC ZW G VM SOCEWB C S <s> WU E OE NHO ESOBT GTG XC BCBB  BE B BU OBZ S Z ZSQBFS<s>BZXFBE O MF B E YBZTOZ ZDSED D S T  C W XWZWZT B EYO S BSBQZ BE SBE EZYMHB Q Q Q WZ B CW BM V B WXZ W <s>WBOZ WS BEB WSEOBSBU B BBTB FD EFBC  F C  BW BY  BM WC BM T T BF BQWZXHE C M ONC O BCBWB NT ZOBDBWMTX RS<s>B ZBB BBBCUW B C  WQ SB U ZB Z OBBQMB  W WB SBGWZWCBTWZT BECZQ SECBMZCZ H C O FW WKZBQZBEZFO ZQH EQEOT Y B B CBS BSE ZB COXC<s>VZGMWUWZZSZZCDWZ ZW O CEF SX WZB BECB Z ZFB B MZ BZXO BES ZBZ D Z BBEBUB Z Q E  BM SB C UB CT  OM O O Q BZQSZBBQWO BBEF SQWBBF BSFWZSFBEU SVYZBFBSE<s> BOB B HBBSW BSH BS B EWBM C WFB CW TBBWQW WB ZB CW EYW WBM XB OB QMBZW BM B EB EBBEBBZ ETBZ ZB CESC FB BSSOWOXQ   OBZCZCZ OW XBY  XOSM QWB  XOQ Z O BY BY B WM Y TZEOB BOBEBX BECBE SBB XUBXBUBEG UD</s>FYZO WBBBY E XBX B MBMBMBMBMBMWOWMWO QWOBOX W  ZS T EU Y <s>YB B SZ EQZN YT MWBEBHWY F EUC W WZ YZMBWSMFBNMEOZ FZ BWZWBZ BZE Z<s>B B BUCB CDWSF EFWBQ B BY BZ W ZN ZWZ XM F F EC W  Z E MBZ WSXFBYB B HZ BZB B D OE SBQX F SB O SBBZBZ  EGZB ZW Z OBZ ZSZCZ BO Z Y FHOEC SCOCZ CZ Q E ZFOCE B FB X C SE CQW OET WTZOE Z CZY<s> Z GZM BFM<s>BD BECBB B ZYZY Z NWOD WZ ZCSZED  X B OM OZWMW F ZBFOU UBBS CZ GWS EDWZBZ DWZWS EHBBZ ZWZ XB CQT OQ BE BNQ BYCMBZ BEB TF XZBBZC B BCBCBOBOZQ HZFXCW WCZ WBDC WBZ  REQEGDM V B C BZ Q QB  DB  F OCWZC WCBZ CBDFBG NT E B XBSXBS BZBE BE B  Z  B UMZ  COWYB BGWBOX S C BW BYM Z BM YS BEXBM W OT B OZ B  CWBZQC HFXXBEZBGXF SXM WM WBE O  VZN CBZ EYW OBY BYB B BMB  B C QSHXU EB Z SFW C   BZBFB BSW B<s>BB B F ZOWEZ QO SBBS E SEB B Q B BZX ONBESFCBWHWQ CBEB  HWN OB E O CEBBXEEBOWB B T H BZV B CB WBM BYBZBDHOGBXYQ B   OC B B OM R WZU CSWB ZOFMEYBZ CBYU BSWBUES S E  ZBEYFGE DBZ ZC W CEBF B Z OLWH V ZB BE ZB' MFOB BWBECBSBY EUWO'<s>F EBEZ BMCBY XO B OGU S R OBZ B Q EBU  BEOOBCB B DQBXB BTB BEFBU BE B T BY C\"}\n",
      "{'text': \"BSXO WB B F G BP SZ  B W T EC BZNBSZ BH U FOMCOMC Z ECOMTSBZ CBY BF   U BEBETB SB Q M BE UY SBESBZ EO BBSZ Z ZZT T T OUTUTU UOXOEO OXDZBCBCEWZM VYWFXZW TZ YFZO YZO  D  ZBO Z BF BC Z BF BMSEQEDUYNC O VNTCYBZYF OEYZEWZB B Z B U ZZB  Z  BSF BQE BU GCE T Z GZ CB  C B OFB Q BEDWV Q W   C B ZWV ZE CGB UOHZ CMUYE Y EZE EWF B HKFO EBERB XCZWC GCEXESECZM CFTXCFYTCE O BEM TB FB MBY  E UBSFQ W  W TE M B CZU MNC  XB ZX  D B TZ DB BOM CDWDCBB C D CZDZDBD D WWBXBECBZY W BCFBU EBZBZSB ZO W OGC SZB UD  UZ WB  BFBXCB  EYZB G EQBO EBGBEGFB ZB S  B  UVBE B B  UEG Z  MEC BX BU Y ECBSBY MZB OUOBUBZCBECB Z OE ZBEB B Z M   BZ FCQEY  Q    BSB ZU OXOSOZUBZEQFEDC F COSCB W WSGWZEZ EOT  TB W C BE RYBO B WW ONOO B T B ZF Z S OX   SF SQWBEOBSB BZBU YZ WXY BQYWB EBEBZ MB CBNZB EUWB<s>B O BT B M G E BBCS B W W BSEB XB B BEC CEOU WN UBG WCB W X BXY N X CB ZFBSEBXTWBESC YZB TF S BB CT E SVN B FSBUHWB OC CDB Z Z QZOB FCDN B Z WZCOG V BO OCBZC FC B B CD OCB C OBQX EZBUSB B  BUE H CEOWVCCZ  WO O  BBS XOE BBX<s>EC BSBZ   W W  W ZWZBOS T ET CZ O ZNUEGBV NOOXF C BBQXFW BSS Z P'ZCU OZCSEUCBW FMO O B YZC OZEGQB BU  VZSUEHBEUZ  MIBFSVZ S Z Z HEPF E OFKSZM Z SRZM<s>B B EOEBZ WD OBY FZBXOQW X C W Z BZ UB EBZYS Z B SBFB BDU   WZMTWCSZOBXE C B B ZC  CB WW C X BZM SUC WT CZQEO B  B WWWS Z WBBTQBZOWOBDQZZSZW BT ZCXSB WMT Z YWZWZM C<s>  CZVG EGY<s>YXO CB O H ZOZ EUBYX C SC</s>Z BSF MFE YB CFZ TWSUO X YBEYC M E ZXM X SC BBMBS BEC W CBY Z B QYX Z BY  NZV ECW GBX SG EEWO B ECNB BWBB B B BF S SBNCYTW XYN T M OE FO C ZFZFE FBC BOCDZU ECZY VZBW UZV F X BZ MOZBOCO S CZ WZBCOC BD C Q  C VYO C WZ BOBO F FBT  Q X SCF SE EHHUFESU Z WOEOB B WBE BOB B OVOM E B F DZCZEDWZ DWZSZ DUEDWGSZ OSW     SZCRCM B BU Z BZ WBE S YX B SW B QWST BECX BMSXBOB ZBE SYDBXTMBOXC ESX<s> CBYBNSZMBESB B X B B B B WZB SBYBXB SOBBCE E G U B BZ BBBEB CECB CU YSBFE C SZ Z ESYC B HEZ OMDZ NMC BOYFU B CB ZBTOBY SB BEBFETBS U B C BWB BEBBTOBE B OB <s>BXB BE E B B CBBX  BE BEBEOU B ZB B' B  Z MCBOIE OMON BO ME ZCZFWZ X<s> OZCUCB W WZ BOEO HSZ YZ UZCEB E CZQ Z YONQB WZ Z Y WSWSWZNCB MCB GCB O Z ZF GXZ FQMHZEZH Q BEZTBXOB BMBUEBE B OB OWZQ BBU XBESBUFBEGOB  B SQ OUFBBSZ OCD N CN <unk> R YC FCT EB  MCZSY XBXOXOEOWBBBOEOEOXYB BFCBE BDMWCWQ D H B C SOM MCO FOMO O B B QU WFHY MBZMBWZ FGDYN D TZCB YCW E Z OSZBF COBZ C WBZBWCWUOCZU Z WBY WBU CQ ZO W BZ W BW B Q CW BM  CB H WBUW WYA CB T OB S QT B B QX BWC O BNB CZBBBZ WW  WZW DZ WFWZ DS W M A WZBZ YBY GTZS OUO B BZCZBCWBVOBQCZT B CSBX U FWZBOZS  Z OBVFU BMY CWOBEM MEHZ  BU BECBHBESZBV EZE Z ZFOSSYEB OZS CBVBSZBZ BS Q  CBEFEBBBQX S F BO EF MZSZO Z B D ZBO S BZ BZ WFF WF P  DBBDBEOB  BQT BEZBYMBZBZBC CSBD BYBZBY BCBSZ E SB ZXZBET BOT Z F CXSMB XBZ FWWBSFE BZOS XFXO F        OECBSZ ZCMWC C O  FOZ Z FOXEFYBNHO F DBOZNFOZOV WNZY X B X QOY   XFW WBB QWFEWSSE BSEDZ YOBEG VC<s>BZ CC ZC D Q OC ZWCH   F  WWWQBOO FWE BSB  XOEO WC V X WBWZZ BBO X E FO BF ZBEQB OZ  ZWS TS Z NB ZV W B T B T TB  SBEQWFBBSEOX BSOOSOFCSOG WN SBYEMBNBRSZ Z P VEZMWSBUHWHB T CBGCZ B SZME BG ZC SZBZT  ZC ZXCBDBB WFB T T OX OC EBU COY  DEBZXOBQT BW BMW BBWB BECWW BF  BCSEHU E OBGHB  FGHBZOS <s>Q<s> ZTS BG ZFOV B GN EFB BE HZ OBEHBEOE BSHMFEW EXHZ FZ FCSZ T T W Z OZH Z Z HBEZFZ B W ECFO  BZCWB BZVEFOF  Q ZU TBWUVCB W GUS B CEZ WS WB WEZ WOZ BBZBW  BSX Z XZW WHGUV N BZTE S X BEHY BZBW Z B CXFQVZ HE<s>XQ BTBCBUH BCHBYUHYZ UQZ <s>IZ B  QONC VYHVWZWZWUECSZW XE B CZBGB BBXET WZBRCB YHC ME Q IQ WCWBG W ZO B WDBZHH IT CBEMVWB  BESZB OBETBWB Z BE B B B BE BE B B  WB BEZFBEB EQZXZBU BEBF BESB B SB BZX ZBX BESBE EB BEZ E BCBUBW WBEZ OWBS ZR CMZ WFB WF O BECTSMQZ O N GZ <s>GB S Z O B Z E OBEB  BEW B  B B BEBZ G BCWZCE OWZQ F OBSB  F  OXOXO  ZCE</s>OXZSBXFZ ZC RGUECB FOZOZ RF GTSZCZCZCZS XO OW BBZSBZ S G IOENECOWWDZ  TZQ X BMZQEWBSFE WCOXOB UD B B B EBCY M B F C C ZBZES W R XCZ WB O BE BZOQ BZMB B O BZ QWWO XFBSZOTB OWBSS<s>XDWBBB BW Z COC Z UBMOEBBZOR QZ NBGO C Z E GMTNZ Z B W BM BEQBW CHBU FOH FZ BGB TB  BMTZ WZWZ QBCHZFH UF H FZEDM BBW BHM MZWB W WBOXZSWSG X C ZK VXBC NBUOEWX E YC W EB ZOWOBQ Z YCY XO E Y F WMB BMC B ZYW C WBSB CB BZ BEB B  EZBBE S WT WZ SE B CXBBWBE BOBCB BZBD CB B X B ZM YZYZA TEFBF<s>Z FB DWQWVY GMQ X BXSM COZM FOZ W OZWFDZWZX BZ EC ZF CBEBNB WBZBE  BYT B YZBG Q BD Y GTDWZSZ Z ZONY ZTQ I WY WOBMQZM  <s>BF ZCZ BCQWBOEWDBZ X ZC O W WBW M  WB B B EC UE BSB MWBU N B B  ESSB   OXF  WWBSZBB SWZWC   BBSBB EBED C ZW B C FO ZB Z F W Z YSO Z EYBE Z EZ E </s>YBQB BYWZ EYB ZBE ZEZYDGEG YU  U OUBTZM EUONC O EUZF OXZO  ZZNWZC WBWB   BB BEB BZ B B X SYB WBBBU O S C T OEO C ZB B S  BEB TO ZUZXOESB BES BSE BSM X WF B Z BESBZBZBE BSXF B HN CZRCOWB  DWCBZBED BEQBZW W T YB CBGW EYWXBWQ TZSY XSOEX WY E B OBH Z CY U COB BCZBB D   BF S WZTF SBWBN BS B SOMWW RBZ BWZ SBB  XBUBFBBBZB GQ ZB Z BCEZ SZCN X T B BO WCWKBG  FWZTZOEBNWB WB XWBOO O BBSEH FBWBE ZB ES BZ WBBO T ZB BZ FEFBBCZCEZS S Z   C C C Z Z Z   CO  W B WWB W B CW OEZOEBQXBG   Z BZ CDOZCBWBWX XCBE B B BDG ZB  WC CZCOWBTB C TZBEB BB ZU WBB CQBX SQWZF B B O SB B SWB BWSBE  B B W ZYFB Z F EZYR COZECBZ M OS  OBBGBZ  SF W NOB <s>O ZM B X DCZ ZOQFCX B G ZCOBZ S</s> BYBO ZMY N WZ BO CBXS ZEBF FZ GB YC OY OMC GT B O CBW  EB BX B  XF        OBCF FWBZWB O MB  OOBZ W Z YBO S B CMZ WBEBBZ OBWFXZ CB OFGW FG S O W CZ W BZ Q CZ  CZWWBUE OWFW  ZBZESE BB EZH OZ C FQ BXC DC Y C Z SWB YZ XZ WZBW B MBW BZEWBU B Z BB BE B BX CB B ZB  BESE\"}\n",
      "{'text': \"O HW ZRBMCUBC WOG O YXZNYQOHWZV GF WZ GEKWBF  UOQ QS ZCBT B E C YOUECBEB FB CBBCBB EO ECBE BUZTHBB CFCBEO CZ Z Q W FSS  C F O B BWWCBEHWB BWCWXMCBMNB WCBVMOZU ZO   ZCWEZC FZ WOET BZ YWSSSSSBW    Z X M B B FBC  XSE FE<s> OF WCR WM BT ZYEZWSOU Z BCGTW X BXCW Z B BZM WCTBOCZBZT C G Z HN CTZWBF     WBZSE BSQX BBQXFE O  O DB Z N O W FYQ ZEZ EWCFWFYZ WO  C CYSFV FU EFCFFBCW Z SBDB B SY BZWSC BEZB WSQZ WSFUEZEHBFEO BMWBYOX BUSOWBS F B NC OYBEYOBBYB EC C BCM WDBNC XEBFBYB FBB BOG Z BMYN Z G  M BI ZWB MCNWBZX ED C<s>XQ BBEGSE BE BESB  B BE CB BUW C C BZWZBOWZW ZBOZ W UOOOOEB B  Z EBSFHT FT B CN YSB E X WBE CB SOVZ CO Z OT E B B O EB SECWU W B CZY BZT SY W BY BS Z W BBEQ BSEO BSEO BB XQ BBBB BZT B OMWY B Q  HDEDWQBZ QBSS  ZBOBOW BSQBFW B W  <s>OZ WUZB VB ZWZC CZ OBM B B BU Z Z C B FEBZOOD WE SYB MW V B ZB B B BXQ HBWEGCEZ H Z Q H V FY XV Z M FD BZ B ZV BWB R CB O N O T W BWSZCW EXBB WBZW SEYZ B GYZF O DBY N CWBZE WBWB SBDFBUSXC  B WE SCUZFGBFBEH STWBEQEBOX  F  B XBOEBQ TNCBV B HV ZB B BSBUWB WO I O OCEZBCZ BC W BFGM BZB Q E SBYBN QX  SBY XDY WZW F B  BZ ZTZ M ECBEG QB WY Z OWZDO  B<s> CZ ZGBZCZ BOQSC W WB ZB Z VHSCZSB NOCQWBM Z  CTBEC B M W YEHG FEF CSXB ZB B WFBO BDC ZFC CWB BDS EDBZ  FESBBCESB ESEZB'BX B O HB  QB GSB B D BN <s> COZ CB BYBXBX ZUZB C BYB W EYB O ZWM TF M M BZB SZDBSWZNQZ FBZ B CDSBEDWD OW XU YBZB CCC BOOXB X F X FOZEOBNMYZEXB Q YTZ O EMZ ECW BSBSS  WWOEXDI YZ EOZ WO YBBYQ O ZB B BZ MZ WFBOSZ UBUWBU Z FOB Q  DNZW SBZBYSX GBFBESNYC V B BZ S F EBCFB ZF'ST B ZBE ZB G X CBUW  W XDS BBW EBFB XBEGB BEB B E SUZU BEOB BC UE B EBOEBEPBCB BE BE F EBBEGSECBEOBUM B  B OF BE Z'CB Z\"}\n",
      "{'text': \"B ZVEGCBE BXB BBEMYBE TB  BX EG UZ UZGM <s>ZBG E B BCB EH  Y BE B OFBE UENOB B BCBESEZ EBEOBBEC WFXBF OUEMWB    BSBOWHBBB WF BB EGBBXBE BSOUOEOE FOH WB ZWDW QWZC DW EWEOZBDZZZOBSBQXB VNB S BZ BD B B EB BBUEBV O ESBT B ME EG F F ZCF  XXWDZY CZW CQYBKBT CB H Z ODCWZX BCEUZ OGBEB  Z W FBZBE  WWZWBU WSZ OZOBS ZFHBMOXQ CEHX O BS HXS'BU WSEB CBMB BVB SBESZ B B WWW CE YZOBHBZ BUBZ DB FBECBESBD EOBEB SUOE XOXDW WQ BBBSS OO Z OQ C WCFEHBZMHE FBW WD VCFZBN FC BZ<s>EBBEB Q B ND MOH BSYE O<s>MB XD CFCTBMBYBXB Z BFB TB CXWF HP O B MCSEDZZS WWYU B BOBO F F CXOXWWW SS WBBSEBBB ZUZ SXO W QW CSBWQ B ZWEBYM  CB BCDBZ W WB WBZBYSV XSZMYX  BDEBT BDMDM BOGZB EBUMB W SUBZ QB S H UC CEQ QSBFZB  B U BB B B CC SFD  <s>YBEGY M EZB TZBZB BEBXBW ON XBEB OZX BEZB BH SB B HWSEMB W CEBY B H BEFB XCXZ CX BX B BEGB B MBFBZDXY COBGB SMYB BTBZBTEZ CSYZ ZYEBYWSX WBZES BWB BUBE ZBCX B BX EZB BSEBEHEUOYA FYQG O OBGZBED BY EX ZSBW BZ CECBWSGZBZEWTB B EQBFW B SEBU<unk>NCB CE CUSCZSBEKM FBQ OEB B SB B BEH  <unk>FCX <s>N C BZ EBGBNVO W Z OD MNT Z VZO ZE BM ZO BC ZCFY\"}\n",
      "{'text': \"CZ  BEC GM FCBU BQZ BOB SBZCO Z YUE BUZ WU B ZEMOB CYWU OB ZBEI BXZR   U  BEWBBEZBEDB   BBE FBO B BSBBSCBWWFW ZB WZWZ DZW ZWCZB WZW OD B ZEC VC TBMWB BZ WSOFWB F ZTWBOBSBBBUS N V  BHCO B CBUBS E BQ BE BW Z  Z BG CXCX Z Z  SBMT TU    Z  E WZ BMWOCZ OUS WF XCM B XWZWC D C CWSES O C NC BWCBNU BC UWZG OT FXGB COB WB ZWWZ BWQ E BEC B WB WZ ZEHWZ SEDT OB CYCF UNE QBMYUBWZT NVGTBZH Z OBOU GB SG B O BZC EWZB BBCB CB B B B B BE BXZ E BEHBUCBEBZBVB X BYCB ZB TWOZ  EB BZWBZWWW B BZ BS<s>WB X S<s> BSZOCO W BDM X DO DZ  'E XW B <s>OWW  ZMY ZXW CUOXWB WSCB X OTZWFZM XBZOWNCBZWQF BBFD U YCU EB W MVF B S QBZBZ GT B B BBUCEZ WB OS W ZEZ TWZ WB GX B WBEBEWS WVZBZ <s>O ZE B BHEB XZWZ DY WOZ B MWBEZX S BMEUOZ OQBYF VFPOB  FB X SX B ZW XGSB WG BBBZ ZCZBB Z BY BZ SCWCBC S WQOX ZBTB EOBFVGQM F OBZ BSZHQ  CWB X EYTW ZT B BO MEB  DNZCYWBEHBEHO SBUEB SWEBE CB Z XOB ZCFZ O OZXMZ C<s>GQG GOEC WZOQB <unk>CZO B O OWS EFB OEZ BEOB B W HBEBU  BZZ BEWFOOB<s>EH OOQOXOXOXOXOOOX EDU BZBECB GOM WNUE F  BZ Q BDCG ZWBZ D ED B O ZWMW OFZ ZWZBZYHOB SBZ M O COUB BZW B W BWH EOCOEZW QFGBE  W ZWZBZOZBSBWWBSBB  XFE WWZUEVEGW  ZZFQ UZO C S ZYFB DBMXCOYB CZ W Q  ZBM  ZB X BUW BZBE B Z B FTZBT B WBEZ NB FM T OGTOGBFB BMWSZ WSU CBZBECB B C BXZEQ BMO M X BOZU CWY MO E CAFCBE B  Z C FCESB B BE E B  F BEB  B SB BZBXSBEZBE BX B BO BFX BEC EOEYHN BF  OZW OBZBWOSBEZWZ ZO Q SSWZ DOB C B OB C C CGO YB ECWGBZWBOQWZWFWGS GBWZ XZSCZS X E WCSZWS    ZBWXWZ ZD MZ  DBXBZ  ZDC BE C ZBCBW B QUBECZBZ F BQ OH X WEOB S FMCZ ECB<s>FZOBZ BB C B ZO X DQGQ Q Z CQOSMW ZEG WWBU Z NOZEWBMQOC' C MWZ O B  B ZOBUOZB  BG EU  YBO BS FBZZFBMQ BBEBU B  BE BU E B BE BBEGBETZBSB\"}\n",
      "{'text': 'E E YC GRWB VHNM YB  Z ONOZC T BO B BF   T OZBO WZYB YMWZ Z E XDGNOYO BZCW Z B BT BU MB BCBOB OZZB E BZ FCD T ESCYB CFSCWU B  B H Z ZOW YZ B Z BZWZWFBE FS  CUBYMF BECBSBY O BY BX BEZ YBZ O S  WBE WS Z ZBU BETB OYN CO W PZ TW T Z Z Z OZZWOWEDZXZEDZXF WCZ CZ XZ BZCU EQC  YTMOA<unk> U U ZBTWSBU B EB BEBECBUOB ZBB CWCM BWS HY EZ BECBD CBWB QEDWC W B SN  S CES BCSFBOWBS BZ T UB EBU CBXW BCTFZBDSZ D XWCZ CZU DZ DZY CDZ CZ CZW ZX CBZWFOZB CQB ZSZBS W EBBCBSECQZ BB B WZ WOEWCZ CB B ZXSBZW B CBW EBT  BYBZ BUZ BV ZBT B M Y CW TWCBZ BXBUMZ OWXBEB  B B B B E BEBESB WB B  E B B EYBB SEY B B EEMW WW BOOBDZDZD CWSSUSO ZTS W B CM ED BUXECZB OHZ HSB OUCFB B MF F V CH G UBOW BO WB B OZBE BE B BBE B B  B CB ECBEB B B B B BFZWWW   F OOOSSOBE X OZW ZY GSBSYBOME OW VFYB Z <s> Z MZF  WBZOZWSEB B ZBYBFSFBBBBBE BOB BBB  WF XZ UF CBEB SB BBEFBEF BE BB BE BE B COE S EBE WWBE BEB BE B BESBE B O E BU'}\n",
      "{'text': \"BED B  DECZ ZGR EO FOC ZOBP ZCG<s> FTHOWME WZ  ZDOQNCFGLSCZ T B FHNOBV TO U O CBE BT BOBE G  EBCBH H ZSCBH ZS OBVZCE BEWBYCB C O TBFE EHT S B B B XOXZW B CHT BF WB QT O O Z B FB EZX SS B QXFEBWZT BSUZ BBBQ QF WZOHS WCF BCF BWYB TE C B U DEC XWBSBWWWBSSSSBBB  FBCBZ  QZSXMBF WZ VZ C B E OKWCBZEZWYMH W Z S EOBSEBSEBEHB BQBUGZUYB  BT OOY M W B O WWOEZ TB B X MODE BM B H YBOZBZWEC X CB BECNS FZ CZ QB BWZ EBBWZ WB HWBSET SOYCE ZY OB B W B EOEO CXOXGXG G BT QTZBC B WYFXWOZB F OZBW Z D ZWY Y  BMYBZ ZFBSF QBMBBZCSS E SWNBF QEFNQMSG<s>Z </s> WBSZFG W ZZW B SMTWZ WMBSE CRYOTWOX CV WZ BXOUZ BBZWZWWS CX<s> BUSEE ZE OBX<s>WB WBB<s>EGB BEH S ZW BB BB  E WBSOQXFE BSSEC BSFW ZQ'W BB BBB ZWBZOEFO E B HEMB BQWSH SEOBSEBCBX H OSOX<s>WBSEOWU BZB B O F COHC WEBYMZBBSSWWBBSWF BO WBB WB X BXFB BUFBSSEUSEOEO ED WMBNB CNZWP B W F E  YEQHTE HFEZ   B Q B Z WB WBUCB B OBN FOSCWSWGBHWZF BT WNG CB FBUE BHBECBBMEOEZ CB B ZM WB Z  CZBM RB BFZBZSSZ SEQWO B N B C BGO  BEHB E E B B  YS H F ZX W W BYBOBBZBZ  S Y WESBQ WB ESNCF B SQEC B BTWBEC B B MMFYCB BEZEHOF OMH CZO O EY Q 'ZGSFN E Z <s>ZOZ DCM NCBCO OD EYNBC S O GQMCBNFC GD E FN SMMEU F BEZCMNDBU UMBOBEHZX HB HBXOEBBEGCBZU BEPQ S TB  BOE BY  WF SY  SYSZ OCESBSXO BSW SCX XFBSEO BSE BBXOWBSEQ BBEO F BBBBZBWBE O WQBZ DZWO XSZ BBZWRUH MBOCFU B WBZ STW BZWSEQB C BZQ XSU BB GT E N Q ZQ BBCZUZW BYX MFEGFUOBM  B C XEOF BFZFO X OF BTBSEBET HBE BEQ'G B S WBZY BZB B ZU QWC UEGHDOEFB QBFGQZ OBZ CS HMR HMZWS TWS TB WXZ S CY B WTWQ BZ TWYOWZSBZ XY CSE ZU   CVZ Z BNW W BC W OHD RXMB C OB OX  E ZECBXOB B  BE B CWZGCOQWZ ZSZWB ZZUN WZ YMOGB O B MBZ<s>OZOW WYS GNGXCBX Z OTZCB  EB BCT C CSEQ BE BEHMECBEH U B TZECE SZ WFETWBOT B HWXDSWCZECKOY E P ZB W COYWB BMC XEDWBCSMBZB BWF ECOEHQWB O CF U CMB BZQ WSZX YZBWBQS Y T CE BNSUBVWFY  ZSDZWOZ Z ZWBBDW Q EC WCBY QSB BE  QB B  WYWYZGW   WM M B CO VBWO B BZWO BMBO T BT  O WCQB B C  </s>FF SH BO  ZBBNH VEZ F BE B OXZOF EOWM QF  ZMCQ WB OB BE BEO O  T B EDXZOZGEFYB ZO GWBMW WZ BEDBBEZE T O CB YB SOFB W BF C U S M BZX  SW W BN O Y  EN W O QBZB V VEUOZBS SDSFBF'FE<s>EZBZ CFOY FCFBCX BOWFTMB SBYBYZT FOS B<s>EBBBTUZGF FGBBEBSYOOXFW CECECEF  Z DWEFSB SZTBHT C EBZ BCE B OZH WF BSSXOWFB BEHB S BSE EWZ  ZBZWDWD B B BSBSBB  EDS  BNBZEC WOW WC Y  CZ CZX FOZ FBZ WFCZ DH UEDWECSTV X T B CBD C QB WBD  OC SBEB  BEDW EBDW BZGUF CZ SNEZ OBFGG U<s>CVCYZBEBXUE</s>QBU V BM ZO Q ZC ZEOX C SZWYC B BZMS ZTQ<s> BEB M OE BOE  U OX      WB OOXWPX WFBY ZBYOXBXOXHEQW BOZB ZWFWZOBCY W SOBZ SZWOZ H X EMV Q OBEBZBSBWP BWZBO BESUESZ'EOB GHZCN  UM  BE WB CM B XMGWOWWV   X X  CV G C M MWMWY ZYOS Y WUG T OT B B ZEHXBBO E TZTOSOB XHBTG O E  X W WB</s>XMCEZB <s>EZB CE BO <unk> BEM O Z BGBODH W EESSEIZB TETYMO ZWEXE N HNM T OBE BOXOE BBSQZZZBWEGBYB B EEBHM GB O O EBY ZSW C BV WQU O HXF YB WW UB FG BOZOWZ DBZ EOEZBZ G E<s>BG CBS BMEWZN B B CZ B QWZBX WYBM ODB BFZFOBS OX  YBBZWCF F O O OXOWF  ZBBE U BFBEZB BZSOSBBFB B  W B BFWBSFZW EB BSE MW S F COWZ F WC WBZT S BXST B BBMWQM SZ S OE B QB VX C B BS BHWEB OSBEG BOB BE B O OW S MNCWECSWY W W CMWY </s>C B C YZ OZF OZBM   DY T EDUEDWZ O ZSBBNBFZUF BEZ F O EWL QCB CBZEBZWZC  FO CF STWZTWS SFBSS SF C BYB ZCYABZY U TYE WF   WSEOB SV UE OEZ B U WBE BDBX Z CB Z CWZ SWBOY BCF ZOW W CY Z WYMBZ ZOB BEB WS Z QX B YWWZB X BB CFOC ZUW B S  BUCWSE EZ MZOSOECO ZY ZY SZB  B SBT T SB  XEGBMCBE B BEB BE B EBEB  ZE BEH  B B W EC USB E B 'B\"}\n"
     ]
    }
   ],
   "source": [
    "# 在数据集上使用管道\n",
    "\n",
    "# KeyDataset is a util that will just output the item we're interested in.\n",
    "from transformers.pipelines.pt_utils import KeyDataset\n",
    "from datasets import load_dataset\n",
    "\n",
    "pipe = pipeline(model=\"hf-internal-testing/tiny-random-wav2vec2\")\n",
    "dataset = load_dataset(\"hf-internal-testing/librispeech_asr_dummy\", \"clean\", split=\"validation[:10]\")\n",
    "\n",
    "for out in pipe(KeyDataset(dataset, \"audio\")):\n",
    "    print(out)"
   ]
  },
  {
   "cell_type": "code",
   "execution_count": 9,
   "id": "b9b46d52-ae5f-4575-9198-8dd56adf0235",
   "metadata": {},
   "outputs": [],
   "source": [
    "# 在进行大型数据集进行推理，建议执行此操作的最简单方法是使用迭代器"
   ]
  },
  {
   "cell_type": "code",
   "execution_count": 10,
   "id": "87c57e85-bfed-4d8f-9689-c025c68132b3",
   "metadata": {},
   "outputs": [
    {
     "data": {
      "application/vnd.jupyter.widget-view+json": {
       "model_id": "e450290b86a44307a35215e00653d9c8",
       "version_major": 2,
       "version_minor": 0
      },
      "text/plain": [
       "config.json:   0%|          | 0.00/69.7k [00:00<?, ?B/s]"
      ]
     },
     "metadata": {},
     "output_type": "display_data"
    },
    {
     "name": "stderr",
     "output_type": "stream",
     "text": [
      "C:\\Users\\40851\\anaconda3\\Lib\\site-packages\\huggingface_hub\\file_download.py:149: UserWarning: `huggingface_hub` cache-system uses symlinks by default to efficiently store duplicated files but your machine does not support them in C:\\Users\\40851\\.cache\\huggingface\\hub\\models--google--vit-base-patch16-224. Caching files will still work but in a degraded version that might require more space on your disk. This warning can be disabled by setting the `HF_HUB_DISABLE_SYMLINKS_WARNING` environment variable. For more details, see https://huggingface.co/docs/huggingface_hub/how-to-cache#limitations.\n",
      "To support symlinks on Windows, you either need to activate Developer Mode or to run Python as an administrator. In order to see activate developer mode, see this article: https://docs.microsoft.com/en-us/windows/apps/get-started/enable-your-device-for-development\n",
      "  warnings.warn(message)\n"
     ]
    },
    {
     "data": {
      "application/vnd.jupyter.widget-view+json": {
       "model_id": "85c1be0cff454ca0a00caf10ff8238ed",
       "version_major": 2,
       "version_minor": 0
      },
      "text/plain": [
       "model.safetensors:   0%|          | 0.00/346M [00:00<?, ?B/s]"
      ]
     },
     "metadata": {},
     "output_type": "display_data"
    },
    {
     "data": {
      "application/vnd.jupyter.widget-view+json": {
       "model_id": "598c0356f9eb4866aa7499a596453615",
       "version_major": 2,
       "version_minor": 0
      },
      "text/plain": [
       "preprocessor_config.json:   0%|          | 0.00/160 [00:00<?, ?B/s]"
      ]
     },
     "metadata": {},
     "output_type": "display_data"
    },
    {
     "data": {
      "text/plain": [
       "[{'score': 0.4403, 'label': 'lynx, catamount'},\n",
       " {'score': 0.0343,\n",
       "  'label': 'cougar, puma, catamount, mountain lion, painter, panther, Felis concolor'},\n",
       " {'score': 0.0321, 'label': 'snow leopard, ounce, Panthera uncia'},\n",
       " {'score': 0.0235, 'label': 'Egyptian cat'},\n",
       " {'score': 0.023, 'label': 'tiger cat'}]"
      ]
     },
     "execution_count": 10,
     "metadata": {},
     "output_type": "execute_result"
    }
   ],
   "source": [
    "# 视觉pipeline()\n",
    "# 指定您的任务并将图像传递给分类器。该图像可以是链接、本地路径或 base64 编码的图像。例如，下面显示的是什么品种的猫？\n",
    "\n",
    "from transformers import pipeline\n",
    "\n",
    "vision_classifier = pipeline(model=\"google/vit-base-patch16-224\")\n",
    "preds = vision_classifier(\n",
    "    images=\"https://huggingface.co/datasets/huggingface/documentation-images/resolve/main/pipeline-cat-chonk.jpeg\"\n",
    ")\n",
    "preds = [{\"score\": round(pred[\"score\"], 4), \"label\": pred[\"label\"]} for pred in preds]\n",
    "preds\n"
   ]
  },
  {
   "cell_type": "code",
   "execution_count": 11,
   "id": "16ef6fe3-083d-480f-9dda-ef54148b85db",
   "metadata": {},
   "outputs": [
    {
     "data": {
      "application/vnd.jupyter.widget-view+json": {
       "model_id": "56c0de85a0f74631b6357e451d51625b",
       "version_major": 2,
       "version_minor": 0
      },
      "text/plain": [
       "config.json:   0%|          | 0.00/1.15k [00:00<?, ?B/s]"
      ]
     },
     "metadata": {},
     "output_type": "display_data"
    },
    {
     "name": "stderr",
     "output_type": "stream",
     "text": [
      "C:\\Users\\40851\\anaconda3\\Lib\\site-packages\\huggingface_hub\\file_download.py:149: UserWarning: `huggingface_hub` cache-system uses symlinks by default to efficiently store duplicated files but your machine does not support them in C:\\Users\\40851\\.cache\\huggingface\\hub\\models--facebook--bart-large-mnli. Caching files will still work but in a degraded version that might require more space on your disk. This warning can be disabled by setting the `HF_HUB_DISABLE_SYMLINKS_WARNING` environment variable. For more details, see https://huggingface.co/docs/huggingface_hub/how-to-cache#limitations.\n",
      "To support symlinks on Windows, you either need to activate Developer Mode or to run Python as an administrator. In order to see activate developer mode, see this article: https://docs.microsoft.com/en-us/windows/apps/get-started/enable-your-device-for-development\n",
      "  warnings.warn(message)\n"
     ]
    },
    {
     "data": {
      "application/vnd.jupyter.widget-view+json": {
       "model_id": "7cbdfd2748554c8f8e2ea471fbce84de",
       "version_major": 2,
       "version_minor": 0
      },
      "text/plain": [
       "model.safetensors:   0%|          | 0.00/1.63G [00:00<?, ?B/s]"
      ]
     },
     "metadata": {},
     "output_type": "display_data"
    },
    {
     "data": {
      "application/vnd.jupyter.widget-view+json": {
       "model_id": "f136a9997e8a4871a4afa015cb8f000a",
       "version_major": 2,
       "version_minor": 0
      },
      "text/plain": [
       "tokenizer_config.json:   0%|          | 0.00/26.0 [00:00<?, ?B/s]"
      ]
     },
     "metadata": {},
     "output_type": "display_data"
    },
    {
     "data": {
      "application/vnd.jupyter.widget-view+json": {
       "model_id": "c4a0b25a85184e0c9e1c1b5512084e5d",
       "version_major": 2,
       "version_minor": 0
      },
      "text/plain": [
       "vocab.json:   0%|          | 0.00/899k [00:00<?, ?B/s]"
      ]
     },
     "metadata": {},
     "output_type": "display_data"
    },
    {
     "data": {
      "application/vnd.jupyter.widget-view+json": {
       "model_id": "88cd97fe30db4c6499c43a8ecf9ebdbc",
       "version_major": 2,
       "version_minor": 0
      },
      "text/plain": [
       "merges.txt:   0%|          | 0.00/456k [00:00<?, ?B/s]"
      ]
     },
     "metadata": {},
     "output_type": "display_data"
    },
    {
     "data": {
      "application/vnd.jupyter.widget-view+json": {
       "model_id": "12014185e7ed427095781af6e5919175",
       "version_major": 2,
       "version_minor": 0
      },
      "text/plain": [
       "tokenizer.json:   0%|          | 0.00/1.36M [00:00<?, ?B/s]"
      ]
     },
     "metadata": {},
     "output_type": "display_data"
    },
    {
     "data": {
      "text/plain": [
       "{'sequence': 'I have a problem with my iphone that needs to be resolved asap!!',\n",
       " 'labels': ['urgent', 'phone', 'computer', 'not urgent', 'tablet'],\n",
       " 'scores': [0.5036354064941406,\n",
       "  0.4787999987602234,\n",
       "  0.012600108049809933,\n",
       "  0.002655788091942668,\n",
       "  0.0023087728768587112]}"
      ]
     },
     "execution_count": 11,
     "metadata": {},
     "output_type": "execute_result"
    }
   ],
   "source": [
    "# 文本pipeline()\n",
    "\n",
    "from transformers import pipeline\n",
    "\n",
    "# This model is a `zero-shot-classification` model.\n",
    "# It will classify text, except you are free to choose any label you might imagine\n",
    "classifier = pipeline(model=\"facebook/bart-large-mnli\")\n",
    "classifier(\n",
    "    \"I have a problem with my iphone that needs to be resolved asap!!\",\n",
    "    candidate_labels=[\"urgent\", \"not urgent\", \"phone\", \"tablet\", \"computer\"],\n",
    ")"
   ]
  },
  {
   "cell_type": "code",
   "execution_count": 12,
   "id": "a525574a-2797-4595-9ef5-b6cb0d6c920f",
   "metadata": {},
   "outputs": [
    {
     "name": "stdout",
     "output_type": "stream",
     "text": [
      "Collecting pytesseract\n",
      "  Downloading pytesseract-0.3.10-py3-none-any.whl.metadata (11 kB)\n",
      "Requirement already satisfied: packaging>=21.3 in c:\\users\\40851\\anaconda3\\lib\\site-packages (from pytesseract) (23.2)\n",
      "Requirement already satisfied: Pillow>=8.0.0 in c:\\users\\40851\\anaconda3\\lib\\site-packages (from pytesseract) (10.2.0)\n",
      "Downloading pytesseract-0.3.10-py3-none-any.whl (14 kB)\n",
      "Installing collected packages: pytesseract\n",
      "Successfully installed pytesseract-0.3.10\n"
     ]
    }
   ],
   "source": [
    "! pip install pytesseract"
   ]
  },
  {
   "cell_type": "code",
   "execution_count": 1,
   "id": "8341f6eb-b492-48f1-906d-a5f3acc70b20",
   "metadata": {},
   "outputs": [
    {
     "data": {
      "application/vnd.jupyter.widget-view+json": {
       "model_id": "db8dde7a8b0b413c84dab402058e2d9b",
       "version_major": 2,
       "version_minor": 0
      },
      "text/plain": [
       "config.json:   0%|          | 0.00/789 [00:00<?, ?B/s]"
      ]
     },
     "metadata": {},
     "output_type": "display_data"
    },
    {
     "name": "stderr",
     "output_type": "stream",
     "text": [
      "C:\\Users\\40851\\anaconda3\\Lib\\site-packages\\huggingface_hub\\file_download.py:149: UserWarning: `huggingface_hub` cache-system uses symlinks by default to efficiently store duplicated files but your machine does not support them in C:\\Users\\40851\\.cache\\huggingface\\hub\\models--impira--layoutlm-document-qa. Caching files will still work but in a degraded version that might require more space on your disk. This warning can be disabled by setting the `HF_HUB_DISABLE_SYMLINKS_WARNING` environment variable. For more details, see https://huggingface.co/docs/huggingface_hub/how-to-cache#limitations.\n",
      "To support symlinks on Windows, you either need to activate Developer Mode or to run Python as an administrator. In order to see activate developer mode, see this article: https://docs.microsoft.com/en-us/windows/apps/get-started/enable-your-device-for-development\n",
      "  warnings.warn(message)\n"
     ]
    },
    {
     "data": {
      "application/vnd.jupyter.widget-view+json": {
       "model_id": "98f509ff06a44ceca19c9c4b2e5c8a71",
       "version_major": 2,
       "version_minor": 0
      },
      "text/plain": [
       "model.safetensors:   0%|          | 0.00/511M [00:00<?, ?B/s]"
      ]
     },
     "metadata": {},
     "output_type": "display_data"
    },
    {
     "data": {
      "application/vnd.jupyter.widget-view+json": {
       "model_id": "a20fc81a44b94062993a0a7095fe877c",
       "version_major": 2,
       "version_minor": 0
      },
      "text/plain": [
       "tokenizer_config.json:   0%|          | 0.00/315 [00:00<?, ?B/s]"
      ]
     },
     "metadata": {},
     "output_type": "display_data"
    },
    {
     "data": {
      "application/vnd.jupyter.widget-view+json": {
       "model_id": "6bb2ccd3024f41b3af36671e37b38269",
       "version_major": 2,
       "version_minor": 0
      },
      "text/plain": [
       "vocab.json:   0%|          | 0.00/798k [00:00<?, ?B/s]"
      ]
     },
     "metadata": {},
     "output_type": "display_data"
    },
    {
     "data": {
      "application/vnd.jupyter.widget-view+json": {
       "model_id": "b09503d311cc45c1a91136a1fe0b8c41",
       "version_major": 2,
       "version_minor": 0
      },
      "text/plain": [
       "merges.txt:   0%|          | 0.00/456k [00:00<?, ?B/s]"
      ]
     },
     "metadata": {},
     "output_type": "display_data"
    },
    {
     "data": {
      "application/vnd.jupyter.widget-view+json": {
       "model_id": "dfaac402b8e348dbbf752be8fbbd6b5f",
       "version_major": 2,
       "version_minor": 0
      },
      "text/plain": [
       "tokenizer.json:   0%|          | 0.00/1.36M [00:00<?, ?B/s]"
      ]
     },
     "metadata": {},
     "output_type": "display_data"
    },
    {
     "data": {
      "application/vnd.jupyter.widget-view+json": {
       "model_id": "2a321e7aaca6497b94bf0813b63308ed",
       "version_major": 2,
       "version_minor": 0
      },
      "text/plain": [
       "special_tokens_map.json:   0%|          | 0.00/239 [00:00<?, ?B/s]"
      ]
     },
     "metadata": {},
     "output_type": "display_data"
    },
    {
     "data": {
      "text/plain": [
       "[{'score': 0.9998127222061157, 'answer': 'us-001', 'start': 15, 'end': 15}]"
      ]
     },
     "execution_count": 1,
     "metadata": {},
     "output_type": "execute_result"
    }
   ],
   "source": [
    "# 多式联营pipeline\n",
    "\n",
    "# pipeline ()支持不止一种模式。例如，视觉问答（VQA）任务结合了文本和图像。请随意使用您喜欢的任何图像链接以及您想询问的有关该图像的问题。该图像可以是图像的 URL 或本地路径。\n",
    "\n",
    "from transformers import pipeline\n",
    "\n",
    "vqa = pipeline(model=\"impira/layoutlm-document-qa\")\n",
    "vqa(\n",
    "    image=\"https://huggingface.co/spaces/impira/docquery/resolve/2359223c1837a7587402bda0f2643382a6eefeab/invoice.png\",\n",
    "    question=\"What is the invoice number?\",\n",
    ")\n"
   ]
  },
  {
   "cell_type": "code",
   "execution_count": 2,
   "id": "09dc2aae-8761-448b-80e1-7bd0f961ad59",
   "metadata": {},
   "outputs": [
    {
     "name": "stdout",
     "output_type": "stream",
     "text": [
      "Collecting gradio==4.21.0\n",
      "  Downloading gradio-4.21.0-py3-none-any.whl.metadata (15 kB)\n",
      "Requirement already satisfied: aiofiles<24.0,>=22.0 in c:\\users\\40851\\anaconda3\\lib\\site-packages (from gradio==4.21.0) (23.2.1)\n",
      "Requirement already satisfied: altair<6.0,>=4.2.0 in c:\\users\\40851\\anaconda3\\lib\\site-packages (from gradio==4.21.0) (5.0.1)\n",
      "Requirement already satisfied: fastapi in c:\\users\\40851\\anaconda3\\lib\\site-packages (from gradio==4.21.0) (0.110.0)\n",
      "Requirement already satisfied: ffmpy in c:\\users\\40851\\anaconda3\\lib\\site-packages (from gradio==4.21.0) (0.3.2)\n",
      "Collecting gradio-client==0.12.0 (from gradio==4.21.0)\n",
      "  Downloading gradio_client-0.12.0-py3-none-any.whl.metadata (7.1 kB)\n",
      "Requirement already satisfied: httpx>=0.24.1 in c:\\users\\40851\\anaconda3\\lib\\site-packages (from gradio==4.21.0) (0.27.0)\n",
      "Requirement already satisfied: huggingface-hub>=0.19.3 in c:\\users\\40851\\anaconda3\\lib\\site-packages (from gradio==4.21.0) (0.21.4)\n",
      "Requirement already satisfied: importlib-resources<7.0,>=1.3 in c:\\users\\40851\\anaconda3\\lib\\site-packages (from gradio==4.21.0) (6.3.2)\n",
      "Requirement already satisfied: jinja2<4.0 in c:\\users\\40851\\anaconda3\\lib\\site-packages (from gradio==4.21.0) (3.1.3)\n",
      "Requirement already satisfied: markupsafe~=2.0 in c:\\users\\40851\\anaconda3\\lib\\site-packages (from gradio==4.21.0) (2.1.3)\n",
      "Requirement already satisfied: matplotlib~=3.0 in c:\\users\\40851\\anaconda3\\lib\\site-packages (from gradio==4.21.0) (3.8.0)\n",
      "Requirement already satisfied: numpy~=1.0 in c:\\users\\40851\\anaconda3\\lib\\site-packages (from gradio==4.21.0) (1.26.4)\n",
      "Requirement already satisfied: orjson~=3.0 in c:\\users\\40851\\anaconda3\\lib\\site-packages (from gradio==4.21.0) (3.9.15)\n",
      "Requirement already satisfied: packaging in c:\\users\\40851\\anaconda3\\lib\\site-packages (from gradio==4.21.0) (23.2)\n",
      "Requirement already satisfied: pandas<3.0,>=1.0 in c:\\users\\40851\\anaconda3\\lib\\site-packages (from gradio==4.21.0) (2.1.4)\n",
      "Requirement already satisfied: pillow<11.0,>=8.0 in c:\\users\\40851\\anaconda3\\lib\\site-packages (from gradio==4.21.0) (10.2.0)\n",
      "Requirement already satisfied: pydantic>=2.0 in c:\\users\\40851\\anaconda3\\lib\\site-packages (from gradio==4.21.0) (2.6.4)\n",
      "Requirement already satisfied: pydub in c:\\users\\40851\\anaconda3\\lib\\site-packages (from gradio==4.21.0) (0.25.1)\n",
      "Requirement already satisfied: python-multipart>=0.0.9 in c:\\users\\40851\\anaconda3\\lib\\site-packages (from gradio==4.21.0) (0.0.9)\n",
      "Requirement already satisfied: pyyaml<7.0,>=5.0 in c:\\users\\40851\\anaconda3\\lib\\site-packages (from gradio==4.21.0) (6.0.1)\n",
      "Requirement already satisfied: ruff>=0.2.2 in c:\\users\\40851\\anaconda3\\lib\\site-packages (from gradio==4.21.0) (0.3.3)\n",
      "Requirement already satisfied: semantic-version~=2.0 in c:\\users\\40851\\anaconda3\\lib\\site-packages (from gradio==4.21.0) (2.10.0)\n",
      "Requirement already satisfied: tomlkit==0.12.0 in c:\\users\\40851\\anaconda3\\lib\\site-packages (from gradio==4.21.0) (0.12.0)\n",
      "Requirement already satisfied: typer<1.0,>=0.9 in c:\\users\\40851\\anaconda3\\lib\\site-packages (from typer[all]<1.0,>=0.9->gradio==4.21.0) (0.9.0)\n",
      "Requirement already satisfied: typing-extensions~=4.0 in c:\\users\\40851\\anaconda3\\lib\\site-packages (from gradio==4.21.0) (4.9.0)\n",
      "Requirement already satisfied: uvicorn>=0.14.0 in c:\\users\\40851\\anaconda3\\lib\\site-packages (from gradio==4.21.0) (0.29.0)\n",
      "Requirement already satisfied: fsspec in c:\\users\\40851\\anaconda3\\lib\\site-packages (from gradio-client==0.12.0->gradio==4.21.0) (2023.10.0)\n",
      "Requirement already satisfied: websockets<12.0,>=10.0 in c:\\users\\40851\\anaconda3\\lib\\site-packages (from gradio-client==0.12.0->gradio==4.21.0) (11.0.3)\n",
      "Requirement already satisfied: jsonschema>=3.0 in c:\\users\\40851\\anaconda3\\lib\\site-packages (from altair<6.0,>=4.2.0->gradio==4.21.0) (4.19.2)\n",
      "Requirement already satisfied: toolz in c:\\users\\40851\\anaconda3\\lib\\site-packages (from altair<6.0,>=4.2.0->gradio==4.21.0) (0.12.0)\n",
      "Requirement already satisfied: anyio in c:\\users\\40851\\anaconda3\\lib\\site-packages (from httpx>=0.24.1->gradio==4.21.0) (4.2.0)\n",
      "Requirement already satisfied: certifi in c:\\users\\40851\\anaconda3\\lib\\site-packages (from httpx>=0.24.1->gradio==4.21.0) (2024.2.2)\n",
      "Requirement already satisfied: httpcore==1.* in c:\\users\\40851\\anaconda3\\lib\\site-packages (from httpx>=0.24.1->gradio==4.21.0) (1.0.4)\n",
      "Requirement already satisfied: idna in c:\\users\\40851\\anaconda3\\lib\\site-packages (from httpx>=0.24.1->gradio==4.21.0) (3.4)\n",
      "Requirement already satisfied: sniffio in c:\\users\\40851\\anaconda3\\lib\\site-packages (from httpx>=0.24.1->gradio==4.21.0) (1.3.0)\n",
      "Requirement already satisfied: h11<0.15,>=0.13 in c:\\users\\40851\\anaconda3\\lib\\site-packages (from httpcore==1.*->httpx>=0.24.1->gradio==4.21.0) (0.14.0)\n",
      "Requirement already satisfied: filelock in c:\\users\\40851\\anaconda3\\lib\\site-packages (from huggingface-hub>=0.19.3->gradio==4.21.0) (3.13.1)\n",
      "Requirement already satisfied: requests in c:\\users\\40851\\anaconda3\\lib\\site-packages (from huggingface-hub>=0.19.3->gradio==4.21.0) (2.31.0)\n",
      "Requirement already satisfied: tqdm>=4.42.1 in c:\\users\\40851\\anaconda3\\lib\\site-packages (from huggingface-hub>=0.19.3->gradio==4.21.0) (4.65.0)\n",
      "Requirement already satisfied: contourpy>=1.0.1 in c:\\users\\40851\\anaconda3\\lib\\site-packages (from matplotlib~=3.0->gradio==4.21.0) (1.2.0)\n",
      "Requirement already satisfied: cycler>=0.10 in c:\\users\\40851\\anaconda3\\lib\\site-packages (from matplotlib~=3.0->gradio==4.21.0) (0.11.0)\n",
      "Requirement already satisfied: fonttools>=4.22.0 in c:\\users\\40851\\anaconda3\\lib\\site-packages (from matplotlib~=3.0->gradio==4.21.0) (4.25.0)\n",
      "Requirement already satisfied: kiwisolver>=1.0.1 in c:\\users\\40851\\anaconda3\\lib\\site-packages (from matplotlib~=3.0->gradio==4.21.0) (1.4.4)\n",
      "Requirement already satisfied: pyparsing>=2.3.1 in c:\\users\\40851\\anaconda3\\lib\\site-packages (from matplotlib~=3.0->gradio==4.21.0) (3.0.9)\n",
      "Requirement already satisfied: python-dateutil>=2.7 in c:\\users\\40851\\anaconda3\\lib\\site-packages (from matplotlib~=3.0->gradio==4.21.0) (2.8.2)\n",
      "Requirement already satisfied: pytz>=2020.1 in c:\\users\\40851\\anaconda3\\lib\\site-packages (from pandas<3.0,>=1.0->gradio==4.21.0) (2023.3.post1)\n",
      "Requirement already satisfied: tzdata>=2022.1 in c:\\users\\40851\\anaconda3\\lib\\site-packages (from pandas<3.0,>=1.0->gradio==4.21.0) (2023.3)\n",
      "Requirement already satisfied: annotated-types>=0.4.0 in c:\\users\\40851\\anaconda3\\lib\\site-packages (from pydantic>=2.0->gradio==4.21.0) (0.6.0)\n",
      "Requirement already satisfied: pydantic-core==2.16.3 in c:\\users\\40851\\anaconda3\\lib\\site-packages (from pydantic>=2.0->gradio==4.21.0) (2.16.3)\n",
      "Requirement already satisfied: click<9.0.0,>=7.1.1 in c:\\users\\40851\\anaconda3\\lib\\site-packages (from typer<1.0,>=0.9->typer[all]<1.0,>=0.9->gradio==4.21.0) (8.1.7)\n",
      "Requirement already satisfied: colorama<0.5.0,>=0.4.3 in c:\\users\\40851\\anaconda3\\lib\\site-packages (from typer[all]<1.0,>=0.9->gradio==4.21.0) (0.4.6)\n",
      "Requirement already satisfied: shellingham<2.0.0,>=1.3.0 in c:\\users\\40851\\anaconda3\\lib\\site-packages (from typer[all]<1.0,>=0.9->gradio==4.21.0) (1.5.4)\n",
      "Requirement already satisfied: rich<14.0.0,>=10.11.0 in c:\\users\\40851\\anaconda3\\lib\\site-packages (from typer[all]<1.0,>=0.9->gradio==4.21.0) (13.3.5)\n",
      "Requirement already satisfied: starlette<0.37.0,>=0.36.3 in c:\\users\\40851\\anaconda3\\lib\\site-packages (from fastapi->gradio==4.21.0) (0.36.3)\n",
      "Requirement already satisfied: attrs>=22.2.0 in c:\\users\\40851\\anaconda3\\lib\\site-packages (from jsonschema>=3.0->altair<6.0,>=4.2.0->gradio==4.21.0) (23.1.0)\n",
      "Requirement already satisfied: jsonschema-specifications>=2023.03.6 in c:\\users\\40851\\anaconda3\\lib\\site-packages (from jsonschema>=3.0->altair<6.0,>=4.2.0->gradio==4.21.0) (2023.7.1)\n",
      "Requirement already satisfied: referencing>=0.28.4 in c:\\users\\40851\\anaconda3\\lib\\site-packages (from jsonschema>=3.0->altair<6.0,>=4.2.0->gradio==4.21.0) (0.30.2)\n",
      "Requirement already satisfied: rpds-py>=0.7.1 in c:\\users\\40851\\anaconda3\\lib\\site-packages (from jsonschema>=3.0->altair<6.0,>=4.2.0->gradio==4.21.0) (0.10.6)\n",
      "Requirement already satisfied: six>=1.5 in c:\\users\\40851\\anaconda3\\lib\\site-packages (from python-dateutil>=2.7->matplotlib~=3.0->gradio==4.21.0) (1.16.0)\n",
      "Requirement already satisfied: markdown-it-py<3.0.0,>=2.2.0 in c:\\users\\40851\\anaconda3\\lib\\site-packages (from rich<14.0.0,>=10.11.0->typer[all]<1.0,>=0.9->gradio==4.21.0) (2.2.0)\n",
      "Requirement already satisfied: pygments<3.0.0,>=2.13.0 in c:\\users\\40851\\anaconda3\\lib\\site-packages (from rich<14.0.0,>=10.11.0->typer[all]<1.0,>=0.9->gradio==4.21.0) (2.15.1)\n",
      "Requirement already satisfied: charset-normalizer<4,>=2 in c:\\users\\40851\\anaconda3\\lib\\site-packages (from requests->huggingface-hub>=0.19.3->gradio==4.21.0) (2.0.4)\n",
      "Requirement already satisfied: urllib3<3,>=1.21.1 in c:\\users\\40851\\anaconda3\\lib\\site-packages (from requests->huggingface-hub>=0.19.3->gradio==4.21.0) (2.0.7)\n",
      "Requirement already satisfied: mdurl~=0.1 in c:\\users\\40851\\anaconda3\\lib\\site-packages (from markdown-it-py<3.0.0,>=2.2.0->rich<14.0.0,>=10.11.0->typer[all]<1.0,>=0.9->gradio==4.21.0) (0.1.0)\n",
      "Downloading gradio-4.21.0-py3-none-any.whl (17.0 MB)\n",
      "   ---------------------------------------- 0.0/17.0 MB ? eta -:--:--\n",
      "   ---------------------------------------- 0.0/17.0 MB ? eta -:--:--\n",
      "   ---------------------------------------- 0.0/17.0 MB ? eta -:--:--\n",
      "   ---------------------------------------- 0.0/17.0 MB 259.2 kB/s eta 0:01:06\n",
      "   ---------------------------------------- 0.0/17.0 MB 259.2 kB/s eta 0:01:06\n",
      "   ---------------------------------------- 0.0/17.0 MB 195.7 kB/s eta 0:01:27\n",
      "   ---------------------------------------- 0.1/17.0 MB 233.8 kB/s eta 0:01:13\n",
      "   ---------------------------------------- 0.1/17.0 MB 233.8 kB/s eta 0:01:13\n",
      "   ---------------------------------------- 0.1/17.0 MB 233.8 kB/s eta 0:01:13\n",
      "   ---------------------------------------- 0.1/17.0 MB 300.4 kB/s eta 0:00:57\n",
      "   ---------------------------------------- 0.2/17.0 MB 364.0 kB/s eta 0:00:47\n",
      "   ---------------------------------------- 0.2/17.0 MB 349.3 kB/s eta 0:00:49\n",
      "   ---------------------------------------- 0.2/17.0 MB 380.0 kB/s eta 0:00:45\n",
      "    --------------------------------------- 0.2/17.0 MB 404.2 kB/s eta 0:00:42\n",
      "    --------------------------------------- 0.3/17.0 MB 448.2 kB/s eta 0:00:38\n",
      "    --------------------------------------- 0.3/17.0 MB 511.2 kB/s eta 0:00:33\n",
      "    --------------------------------------- 0.4/17.0 MB 580.5 kB/s eta 0:00:29\n",
      "   - -------------------------------------- 0.5/17.0 MB 626.9 kB/s eta 0:00:27\n",
      "   - -------------------------------------- 0.6/17.0 MB 694.0 kB/s eta 0:00:24\n",
      "   - -------------------------------------- 0.6/17.0 MB 753.5 kB/s eta 0:00:22\n",
      "   - -------------------------------------- 0.7/17.0 MB 830.9 kB/s eta 0:00:20\n",
      "   - -------------------------------------- 0.8/17.0 MB 855.2 kB/s eta 0:00:19\n",
      "   -- ------------------------------------- 0.9/17.0 MB 951.1 kB/s eta 0:00:17\n",
      "   -- ------------------------------------- 1.0/17.0 MB 1.0 MB/s eta 0:00:16\n",
      "   -- ------------------------------------- 1.1/17.0 MB 1.0 MB/s eta 0:00:16\n",
      "   -- ------------------------------------- 1.1/17.0 MB 1.0 MB/s eta 0:00:16\n",
      "   -- ------------------------------------- 1.2/17.0 MB 1.1 MB/s eta 0:00:15\n",
      "   -- ------------------------------------- 1.2/17.0 MB 1.0 MB/s eta 0:00:16\n",
      "   --- ------------------------------------ 1.3/17.0 MB 1.0 MB/s eta 0:00:16\n",
      "   --- ------------------------------------ 1.4/17.0 MB 1.1 MB/s eta 0:00:15\n",
      "   --- ------------------------------------ 1.5/17.0 MB 1.1 MB/s eta 0:00:15\n",
      "   --- ------------------------------------ 1.6/17.0 MB 1.1 MB/s eta 0:00:14\n",
      "   ---- ----------------------------------- 1.7/17.0 MB 1.2 MB/s eta 0:00:13\n",
      "   ---- ----------------------------------- 1.9/17.0 MB 1.2 MB/s eta 0:00:13\n",
      "   ---- ----------------------------------- 2.0/17.0 MB 1.3 MB/s eta 0:00:12\n",
      "   ---- ----------------------------------- 2.0/17.0 MB 1.3 MB/s eta 0:00:12\n",
      "   ---- ----------------------------------- 2.0/17.0 MB 1.3 MB/s eta 0:00:12\n",
      "   ---- ----------------------------------- 2.0/17.0 MB 1.3 MB/s eta 0:00:12\n",
      "   ---- ----------------------------------- 2.1/17.0 MB 1.2 MB/s eta 0:00:13\n",
      "   ---- ----------------------------------- 2.1/17.0 MB 1.2 MB/s eta 0:00:13\n",
      "   ---- ----------------------------------- 2.1/17.0 MB 1.2 MB/s eta 0:00:13\n",
      "   ---- ----------------------------------- 2.1/17.0 MB 1.2 MB/s eta 0:00:13\n",
      "   ---- ----------------------------------- 2.1/17.0 MB 1.2 MB/s eta 0:00:13\n",
      "   ------ --------------------------------- 2.6/17.0 MB 1.3 MB/s eta 0:00:12\n",
      "   ------ --------------------------------- 2.9/17.0 MB 1.4 MB/s eta 0:00:10\n",
      "   ------ --------------------------------- 2.9/17.0 MB 1.4 MB/s eta 0:00:10\n",
      "   ------- -------------------------------- 3.0/17.0 MB 1.4 MB/s eta 0:00:10\n",
      "   ------- -------------------------------- 3.0/17.0 MB 1.4 MB/s eta 0:00:10\n",
      "   ------- -------------------------------- 3.0/17.0 MB 1.4 MB/s eta 0:00:10\n",
      "   ------- -------------------------------- 3.0/17.0 MB 1.4 MB/s eta 0:00:10\n",
      "   ------- -------------------------------- 3.1/17.0 MB 1.4 MB/s eta 0:00:11\n",
      "   ------- -------------------------------- 3.3/17.0 MB 1.4 MB/s eta 0:00:10\n",
      "   --------- ------------------------------ 3.9/17.0 MB 1.6 MB/s eta 0:00:09\n",
      "   --------- ------------------------------ 4.0/17.0 MB 1.7 MB/s eta 0:00:08\n",
      "   --------- ------------------------------ 4.0/17.0 MB 1.6 MB/s eta 0:00:08\n",
      "   --------- ------------------------------ 4.1/17.0 MB 1.6 MB/s eta 0:00:08\n",
      "   --------- ------------------------------ 4.1/17.0 MB 1.6 MB/s eta 0:00:08\n",
      "   --------- ------------------------------ 4.2/17.0 MB 1.6 MB/s eta 0:00:08\n",
      "   ---------- ----------------------------- 4.4/17.0 MB 1.7 MB/s eta 0:00:08\n",
      "   ---------- ----------------------------- 4.6/17.0 MB 1.7 MB/s eta 0:00:08\n",
      "   ----------- ---------------------------- 4.8/17.0 MB 1.7 MB/s eta 0:00:08\n",
      "   ----------- ---------------------------- 4.8/17.0 MB 1.7 MB/s eta 0:00:08\n",
      "   ----------- ---------------------------- 4.8/17.0 MB 1.7 MB/s eta 0:00:08\n",
      "   ----------- ---------------------------- 4.8/17.0 MB 1.7 MB/s eta 0:00:08\n",
      "   ----------- ---------------------------- 4.8/17.0 MB 1.7 MB/s eta 0:00:08\n",
      "   ----------- ---------------------------- 4.8/17.0 MB 1.7 MB/s eta 0:00:08\n",
      "   ----------- ---------------------------- 4.8/17.0 MB 1.7 MB/s eta 0:00:08\n",
      "   ----------- ---------------------------- 4.8/17.0 MB 1.7 MB/s eta 0:00:08\n",
      "   ----------- ---------------------------- 4.8/17.0 MB 1.7 MB/s eta 0:00:08\n",
      "   ----------- ---------------------------- 4.8/17.0 MB 1.5 MB/s eta 0:00:08\n",
      "   ----------- ---------------------------- 5.0/17.0 MB 1.6 MB/s eta 0:00:08\n",
      "   ----------- ---------------------------- 5.0/17.0 MB 1.6 MB/s eta 0:00:08\n",
      "   ----------- ---------------------------- 5.0/17.0 MB 1.6 MB/s eta 0:00:08\n",
      "   ----------- ---------------------------- 5.0/17.0 MB 1.6 MB/s eta 0:00:08\n",
      "   ----------- ---------------------------- 5.0/17.0 MB 1.6 MB/s eta 0:00:08\n",
      "   ----------- ---------------------------- 5.0/17.0 MB 1.6 MB/s eta 0:00:08\n",
      "   ----------- ---------------------------- 5.0/17.0 MB 1.6 MB/s eta 0:00:08\n",
      "   ----------- ---------------------------- 5.0/17.0 MB 1.6 MB/s eta 0:00:08\n",
      "   ----------- ---------------------------- 5.0/17.0 MB 1.6 MB/s eta 0:00:08\n",
      "   ----------- ---------------------------- 5.0/17.0 MB 1.6 MB/s eta 0:00:08\n",
      "   ----------- ---------------------------- 5.1/17.0 MB 1.4 MB/s eta 0:00:09\n",
      "   ------------ --------------------------- 5.3/17.0 MB 1.4 MB/s eta 0:00:09\n",
      "   ------------- -------------------------- 5.6/17.0 MB 1.5 MB/s eta 0:00:08\n",
      "   ------------- -------------------------- 5.9/17.0 MB 1.6 MB/s eta 0:00:08\n",
      "   -------------- ------------------------- 6.3/17.0 MB 1.6 MB/s eta 0:00:07\n",
      "   ---------------- ----------------------- 6.9/17.0 MB 1.8 MB/s eta 0:00:06\n",
      "   ----------------- ---------------------- 7.3/17.0 MB 1.8 MB/s eta 0:00:06\n",
      "   ----------------- ---------------------- 7.3/17.0 MB 1.8 MB/s eta 0:00:06\n",
      "   ----------------- ---------------------- 7.3/17.0 MB 1.8 MB/s eta 0:00:06\n",
      "   ----------------- ---------------------- 7.3/17.0 MB 1.8 MB/s eta 0:00:06\n",
      "   ----------------- ---------------------- 7.3/17.0 MB 1.8 MB/s eta 0:00:06\n",
      "   ----------------- ---------------------- 7.3/17.0 MB 1.8 MB/s eta 0:00:06\n",
      "   ----------------- ---------------------- 7.3/17.0 MB 1.7 MB/s eta 0:00:06\n",
      "   ----------------- ---------------------- 7.4/17.0 MB 1.7 MB/s eta 0:00:06\n",
      "   ----------------- ---------------------- 7.5/17.0 MB 1.7 MB/s eta 0:00:06\n",
      "   ----------------- ---------------------- 7.5/17.0 MB 1.7 MB/s eta 0:00:06\n",
      "   ------------------ --------------------- 7.8/17.0 MB 1.8 MB/s eta 0:00:06\n",
      "   ------------------ --------------------- 8.1/17.0 MB 1.8 MB/s eta 0:00:05\n",
      "   ------------------ --------------------- 8.1/17.0 MB 1.8 MB/s eta 0:00:05\n",
      "   ------------------ --------------------- 8.1/17.0 MB 1.8 MB/s eta 0:00:05\n",
      "   ------------------ --------------------- 8.1/17.0 MB 1.8 MB/s eta 0:00:05\n",
      "   ------------------ --------------------- 8.1/17.0 MB 1.7 MB/s eta 0:00:06\n",
      "   ------------------- -------------------- 8.2/17.0 MB 1.7 MB/s eta 0:00:06\n",
      "   ------------------- -------------------- 8.2/17.0 MB 1.7 MB/s eta 0:00:06\n",
      "   ------------------- -------------------- 8.3/17.0 MB 1.7 MB/s eta 0:00:06\n",
      "   ------------------- -------------------- 8.3/17.0 MB 1.7 MB/s eta 0:00:06\n",
      "   ------------------- -------------------- 8.4/17.0 MB 1.7 MB/s eta 0:00:05\n",
      "   -------------------- ------------------- 8.6/17.0 MB 1.7 MB/s eta 0:00:05\n",
      "   -------------------- ------------------- 8.6/17.0 MB 1.7 MB/s eta 0:00:05\n",
      "   -------------------- ------------------- 8.8/17.0 MB 1.7 MB/s eta 0:00:05\n",
      "   --------------------- ------------------ 9.1/17.0 MB 1.8 MB/s eta 0:00:05\n",
      "   ---------------------- ----------------- 9.6/17.0 MB 1.9 MB/s eta 0:00:04\n",
      "   ---------------------- ----------------- 9.6/17.0 MB 1.9 MB/s eta 0:00:04\n",
      "   ----------------------- ---------------- 9.9/17.0 MB 1.9 MB/s eta 0:00:04\n",
      "   ----------------------- ---------------- 9.9/17.0 MB 1.9 MB/s eta 0:00:04\n",
      "   ----------------------- ---------------- 9.9/17.0 MB 1.9 MB/s eta 0:00:04\n",
      "   ----------------------- ---------------- 10.0/17.0 MB 1.9 MB/s eta 0:00:04\n",
      "   ----------------------- ---------------- 10.1/17.0 MB 1.9 MB/s eta 0:00:04\n",
      "   ----------------------- ---------------- 10.1/17.0 MB 1.9 MB/s eta 0:00:04\n",
      "   ------------------------ --------------- 10.3/17.0 MB 1.9 MB/s eta 0:00:04\n",
      "   ------------------------ --------------- 10.4/17.0 MB 2.0 MB/s eta 0:00:04\n",
      "   ------------------------ --------------- 10.5/17.0 MB 2.1 MB/s eta 0:00:04\n",
      "   ------------------------ --------------- 10.6/17.0 MB 2.1 MB/s eta 0:00:04\n",
      "   ------------------------- -------------- 10.8/17.0 MB 2.1 MB/s eta 0:00:04\n",
      "   ------------------------- -------------- 10.8/17.0 MB 2.1 MB/s eta 0:00:03\n",
      "   ------------------------- -------------- 11.0/17.0 MB 2.1 MB/s eta 0:00:03\n",
      "   -------------------------- ------------- 11.1/17.0 MB 2.1 MB/s eta 0:00:03\n",
      "   -------------------------- ------------- 11.2/17.0 MB 2.1 MB/s eta 0:00:03\n",
      "   -------------------------- ------------- 11.4/17.0 MB 2.1 MB/s eta 0:00:03\n",
      "   -------------------------- ------------- 11.4/17.0 MB 2.1 MB/s eta 0:00:03\n",
      "   -------------------------- ------------- 11.4/17.0 MB 2.1 MB/s eta 0:00:03\n",
      "   -------------------------- ------------- 11.4/17.0 MB 2.1 MB/s eta 0:00:03\n",
      "   --------------------------- ------------ 11.5/17.0 MB 2.1 MB/s eta 0:00:03\n",
      "   --------------------------- ------------ 11.6/17.0 MB 2.1 MB/s eta 0:00:03\n",
      "   --------------------------- ------------ 11.7/17.0 MB 2.1 MB/s eta 0:00:03\n",
      "   --------------------------- ------------ 11.7/17.0 MB 2.1 MB/s eta 0:00:03\n",
      "   --------------------------- ------------ 11.7/17.0 MB 2.1 MB/s eta 0:00:03\n",
      "   --------------------------- ------------ 11.7/17.0 MB 2.1 MB/s eta 0:00:03\n",
      "   --------------------------- ------------ 11.7/17.0 MB 2.1 MB/s eta 0:00:03\n",
      "   --------------------------- ------------ 11.7/17.0 MB 2.1 MB/s eta 0:00:03\n",
      "   ---------------------------- ----------- 12.0/17.0 MB 2.0 MB/s eta 0:00:03\n",
      "   ---------------------------- ----------- 12.3/17.0 MB 2.1 MB/s eta 0:00:03\n",
      "   ----------------------------- ---------- 12.7/17.0 MB 2.2 MB/s eta 0:00:02\n",
      "   ------------------------------ --------- 13.1/17.0 MB 2.2 MB/s eta 0:00:02\n",
      "   ------------------------------- -------- 13.3/17.0 MB 2.4 MB/s eta 0:00:02\n",
      "   ------------------------------- -------- 13.4/17.0 MB 2.3 MB/s eta 0:00:02\n",
      "   ------------------------------- -------- 13.5/17.0 MB 2.3 MB/s eta 0:00:02\n",
      "   -------------------------------- ------- 13.7/17.0 MB 2.3 MB/s eta 0:00:02\n",
      "   -------------------------------- ------- 13.8/17.0 MB 2.3 MB/s eta 0:00:02\n",
      "   -------------------------------- ------- 13.9/17.0 MB 2.2 MB/s eta 0:00:02\n",
      "   -------------------------------- ------- 14.0/17.0 MB 2.2 MB/s eta 0:00:02\n",
      "   --------------------------------- ------ 14.1/17.0 MB 2.2 MB/s eta 0:00:02\n",
      "   --------------------------------- ------ 14.3/17.0 MB 2.2 MB/s eta 0:00:02\n",
      "   --------------------------------- ------ 14.4/17.0 MB 2.2 MB/s eta 0:00:02\n",
      "   ---------------------------------- ----- 14.5/17.0 MB 2.3 MB/s eta 0:00:02\n",
      "   ---------------------------------- ----- 14.5/17.0 MB 2.3 MB/s eta 0:00:02\n",
      "   ---------------------------------- ----- 14.6/17.0 MB 2.2 MB/s eta 0:00:02\n",
      "   ---------------------------------- ----- 14.7/17.0 MB 2.2 MB/s eta 0:00:02\n",
      "   ---------------------------------- ----- 14.7/17.0 MB 2.2 MB/s eta 0:00:02\n",
      "   ---------------------------------- ----- 14.9/17.0 MB 2.2 MB/s eta 0:00:01\n",
      "   ----------------------------------- ---- 14.9/17.0 MB 2.2 MB/s eta 0:00:01\n",
      "   ----------------------------------- ---- 15.0/17.0 MB 2.4 MB/s eta 0:00:01\n",
      "   ----------------------------------- ---- 15.1/17.0 MB 2.4 MB/s eta 0:00:01\n",
      "   ----------------------------------- ---- 15.2/17.0 MB 2.4 MB/s eta 0:00:01\n",
      "   ----------------------------------- ---- 15.2/17.0 MB 2.3 MB/s eta 0:00:01\n",
      "   ------------------------------------ --- 15.3/17.0 MB 2.6 MB/s eta 0:00:01\n",
      "   ------------------------------------ --- 15.4/17.0 MB 2.6 MB/s eta 0:00:01\n",
      "   ------------------------------------ --- 15.5/17.0 MB 2.5 MB/s eta 0:00:01\n",
      "   ------------------------------------ --- 15.6/17.0 MB 2.5 MB/s eta 0:00:01\n",
      "   ------------------------------------ --- 15.7/17.0 MB 2.5 MB/s eta 0:00:01\n",
      "   ------------------------------------- -- 15.8/17.0 MB 2.5 MB/s eta 0:00:01\n",
      "   ------------------------------------- -- 15.9/17.0 MB 2.5 MB/s eta 0:00:01\n",
      "   ------------------------------------- -- 16.0/17.0 MB 2.4 MB/s eta 0:00:01\n",
      "   ------------------------------------- -- 16.1/17.0 MB 2.4 MB/s eta 0:00:01\n",
      "   ------------------------------------- -- 16.1/17.0 MB 2.4 MB/s eta 0:00:01\n",
      "   ------------------------------------- -- 16.1/17.0 MB 2.4 MB/s eta 0:00:01\n",
      "   ------------------------------------- -- 16.1/17.0 MB 2.4 MB/s eta 0:00:01\n",
      "   ------------------------------------- -- 16.1/17.0 MB 2.4 MB/s eta 0:00:01\n",
      "   ------------------------------------- -- 16.1/17.0 MB 2.4 MB/s eta 0:00:01\n",
      "   ------------------------------------- -- 16.1/17.0 MB 2.4 MB/s eta 0:00:01\n",
      "   ------------------------------------- -- 16.1/17.0 MB 2.4 MB/s eta 0:00:01\n",
      "   ------------------------------------- -- 16.1/17.0 MB 2.2 MB/s eta 0:00:01\n",
      "   -------------------------------------- - 16.2/17.0 MB 2.2 MB/s eta 0:00:01\n",
      "   -------------------------------------- - 16.5/17.0 MB 2.2 MB/s eta 0:00:01\n",
      "   ---------------------------------------  16.7/17.0 MB 2.2 MB/s eta 0:00:01\n",
      "   ---------------------------------------  16.8/17.0 MB 2.2 MB/s eta 0:00:01\n",
      "   ---------------------------------------  16.8/17.0 MB 2.2 MB/s eta 0:00:01\n",
      "   ---------------------------------------  16.8/17.0 MB 2.2 MB/s eta 0:00:01\n",
      "   ---------------------------------------  16.8/17.0 MB 2.1 MB/s eta 0:00:01\n",
      "   ---------------------------------------  16.9/17.0 MB 2.1 MB/s eta 0:00:01\n",
      "   ---------------------------------------  17.0/17.0 MB 2.1 MB/s eta 0:00:01\n",
      "   ---------------------------------------  17.0/17.0 MB 2.1 MB/s eta 0:00:01\n",
      "   ---------------------------------------  17.0/17.0 MB 2.1 MB/s eta 0:00:01\n",
      "   ---------------------------------------  17.0/17.0 MB 2.1 MB/s eta 0:00:01\n",
      "   ---------------------------------------- 17.0/17.0 MB 2.0 MB/s eta 0:00:00\n",
      "Downloading gradio_client-0.12.0-py3-none-any.whl (310 kB)\n",
      "   ---------------------------------------- 0.0/310.7 kB ? eta -:--:--\n",
      "   ----------- ---------------------------- 92.2/310.7 kB 2.6 MB/s eta 0:00:01\n",
      "   -------------------------- ------------- 204.8/310.7 kB 2.5 MB/s eta 0:00:01\n",
      "   ---------------------------------------  307.2/310.7 kB 2.4 MB/s eta 0:00:01\n",
      "   ---------------------------------------  307.2/310.7 kB 2.4 MB/s eta 0:00:01\n",
      "   ---------------------------------------  307.2/310.7 kB 2.4 MB/s eta 0:00:01\n",
      "   ---------------------------------------  307.2/310.7 kB 2.4 MB/s eta 0:00:01\n",
      "   ---------------------------------------- 310.7/310.7 kB 1.0 MB/s eta 0:00:00\n",
      "Installing collected packages: gradio-client, gradio\n",
      "  Attempting uninstall: gradio-client\n",
      "    Found existing installation: gradio_client 0.13.0\n",
      "    Uninstalling gradio_client-0.13.0:\n",
      "      Successfully uninstalled gradio_client-0.13.0\n",
      "  Attempting uninstall: gradio\n",
      "    Found existing installation: gradio 4.22.0\n",
      "    Uninstalling gradio-4.22.0:\n",
      "      Successfully uninstalled gradio-4.22.0\n",
      "Successfully installed gradio-4.21.0 gradio-client-0.12.0\n"
     ]
    }
   ],
   "source": [
    "! pip install gradio==4.21.0"
   ]
  },
  {
   "cell_type": "code",
   "execution_count": 1,
   "id": "51679c43-b399-4793-94b3-d0b1c89c41f2",
   "metadata": {},
   "outputs": [
    {
     "name": "stdout",
     "output_type": "stream",
     "text": [
      "Running on local URL:  http://127.0.0.1:7860\n",
      "\n",
      "To create a public link, set `share=True` in `launch()`.\n"
     ]
    },
    {
     "data": {
      "text/html": [
       "<div><iframe src=\"http://127.0.0.1:7860/\" width=\"100%\" height=\"500\" allow=\"autoplay; camera; microphone; clipboard-read; clipboard-write;\" frameborder=\"0\" allowfullscreen></iframe></div>"
      ],
      "text/plain": [
       "<IPython.core.display.HTML object>"
      ]
     },
     "metadata": {},
     "output_type": "display_data"
    },
    {
     "data": {
      "text/plain": []
     },
     "execution_count": 1,
     "metadata": {},
     "output_type": "execute_result"
    },
    {
     "name": "stderr",
     "output_type": "stream",
     "text": [
      "Exception in callback _ProactorBasePipeTransport._call_connection_lost(None)\n",
      "handle: <Handle _ProactorBasePipeTransport._call_connection_lost(None)>\n",
      "Traceback (most recent call last):\n",
      "  File \"C:\\Users\\40851\\anaconda3\\Lib\\asyncio\\events.py\", line 80, in _run\n",
      "    self._context.run(self._callback, *self._args)\n",
      "  File \"C:\\Users\\40851\\anaconda3\\Lib\\asyncio\\proactor_events.py\", line 165, in _call_connection_lost\n",
      "    self._sock.shutdown(socket.SHUT_RDWR)\n",
      "ConnectionResetError: [WinError 10054] 远程主机强迫关闭了一个现有的连接。\n"
     ]
    }
   ],
   "source": [
    "# 使用 gradio 从管道创建 Web 演示\n",
    "\n",
    "from transformers import pipeline\n",
    "import gradio as gr\n",
    "\n",
    "pipe = pipeline(\"image-classification\", model=\"google/vit-base-patch16-224\")\n",
    "\n",
    "gr.Interface.from_pipeline(pipe).launch()\n"
   ]
  },
  {
   "cell_type": "code",
   "execution_count": null,
   "id": "fd5e8ae2-a473-4e57-863d-a0e53e453cec",
   "metadata": {},
   "outputs": [],
   "source": []
  }
 ],
 "metadata": {
  "kernelspec": {
   "display_name": "Python 3 (ipykernel)",
   "language": "python",
   "name": "python3"
  },
  "language_info": {
   "codemirror_mode": {
    "name": "ipython",
    "version": 3
   },
   "file_extension": ".py",
   "mimetype": "text/x-python",
   "name": "python",
   "nbconvert_exporter": "python",
   "pygments_lexer": "ipython3",
   "version": "3.11.7"
  }
 },
 "nbformat": 4,
 "nbformat_minor": 5
}
